{
 "cells": [
  {
   "cell_type": "code",
   "execution_count": 1,
   "id": "c25d7071",
   "metadata": {},
   "outputs": [],
   "source": [
    "import pandas as pd"
   ]
  },
  {
   "cell_type": "code",
   "execution_count": 5,
   "id": "eaed09fd",
   "metadata": {},
   "outputs": [],
   "source": [
    "data = pd.read_csv(\"C:/Users/grg_s/TDI Day 4 of 12/Value_of_Energy_Cost_Savings_Program_Savings_for_Businesses.csv\")"
   ]
  },
  {
   "cell_type": "code",
   "execution_count": 6,
   "id": "bad349c1",
   "metadata": {
    "scrolled": true
   },
   "outputs": [
    {
     "data": {
      "text/html": [
       "<div>\n",
       "<style scoped>\n",
       "    .dataframe tbody tr th:only-of-type {\n",
       "        vertical-align: middle;\n",
       "    }\n",
       "\n",
       "    .dataframe tbody tr th {\n",
       "        vertical-align: top;\n",
       "    }\n",
       "\n",
       "    .dataframe thead th {\n",
       "        text-align: right;\n",
       "    }\n",
       "</style>\n",
       "<table border=\"1\" class=\"dataframe\">\n",
       "  <thead>\n",
       "    <tr style=\"text-align: right;\">\n",
       "      <th></th>\n",
       "      <th>Period</th>\n",
       "      <th>Company Name</th>\n",
       "      <th>company contact</th>\n",
       "      <th>company email</th>\n",
       "      <th>company phone</th>\n",
       "      <th>Address</th>\n",
       "      <th>City</th>\n",
       "      <th>State</th>\n",
       "      <th>Postcode</th>\n",
       "      <th>Industry</th>\n",
       "      <th>...</th>\n",
       "      <th>Electric Savings</th>\n",
       "      <th>Borough</th>\n",
       "      <th>Latitude</th>\n",
       "      <th>Longitude</th>\n",
       "      <th>Community Board</th>\n",
       "      <th>Council District</th>\n",
       "      <th>BIN</th>\n",
       "      <th>BBL</th>\n",
       "      <th>Census Tract (2020)</th>\n",
       "      <th>Neighborhood Tabulation Area (NTA) (2020)</th>\n",
       "    </tr>\n",
       "  </thead>\n",
       "  <tbody>\n",
       "    <tr>\n",
       "      <th>0</th>\n",
       "      <td>FY2018</td>\n",
       "      <td>139 ACA Realty, Inc.</td>\n",
       "      <td>Eitan Chandally</td>\n",
       "      <td>barbara@dial7.com</td>\n",
       "      <td>7187076123</td>\n",
       "      <td>43-23 35th Street</td>\n",
       "      <td>Long Island City</td>\n",
       "      <td>NY</td>\n",
       "      <td>11101</td>\n",
       "      <td>Commercial</td>\n",
       "      <td>...</td>\n",
       "      <td>NaN</td>\n",
       "      <td>QUEENS</td>\n",
       "      <td>40.745706</td>\n",
       "      <td>-73.929565</td>\n",
       "      <td>402.0</td>\n",
       "      <td>26.0</td>\n",
       "      <td>4003160.0</td>\n",
       "      <td>4.002220e+09</td>\n",
       "      <td>17902.0</td>\n",
       "      <td>QN0202</td>\n",
       "    </tr>\n",
       "    <tr>\n",
       "      <th>1</th>\n",
       "      <td>FY2018</td>\n",
       "      <td>141 Lake Avenue Realty c/o JR Produce, Inc.</td>\n",
       "      <td>Josef Raz</td>\n",
       "      <td>jrproduce@gmail.com</td>\n",
       "      <td>7183708782</td>\n",
       "      <td>141 Lake Avenue</td>\n",
       "      <td>Staten Island</td>\n",
       "      <td>NY</td>\n",
       "      <td>10303</td>\n",
       "      <td>Wholesale/Warehouse/Distribution</td>\n",
       "      <td>...</td>\n",
       "      <td>NaN</td>\n",
       "      <td>STATEN IS</td>\n",
       "      <td>40.632845</td>\n",
       "      <td>-74.151048</td>\n",
       "      <td>501.0</td>\n",
       "      <td>49.0</td>\n",
       "      <td>5146740.0</td>\n",
       "      <td>5.011610e+09</td>\n",
       "      <td>239.0</td>\n",
       "      <td>SI0107</td>\n",
       "    </tr>\n",
       "    <tr>\n",
       "      <th>2</th>\n",
       "      <td>FY2018</td>\n",
       "      <td>14-10 123rd Street LLC</td>\n",
       "      <td>Danica/Ivan Drazic</td>\n",
       "      <td>ddrazic@atjelectrical.com</td>\n",
       "      <td>7183210117</td>\n",
       "      <td>14-10 123rd Street</td>\n",
       "      <td>College Point</td>\n",
       "      <td>NY</td>\n",
       "      <td>11356</td>\n",
       "      <td>Commercial</td>\n",
       "      <td>...</td>\n",
       "      <td>NaN</td>\n",
       "      <td>QUEENS</td>\n",
       "      <td>40.785144</td>\n",
       "      <td>-73.844833</td>\n",
       "      <td>407.0</td>\n",
       "      <td>19.0</td>\n",
       "      <td>4098344.0</td>\n",
       "      <td>4.040850e+09</td>\n",
       "      <td>929.0</td>\n",
       "      <td>QN0701</td>\n",
       "    </tr>\n",
       "    <tr>\n",
       "      <th>3</th>\n",
       "      <td>FY2018</td>\n",
       "      <td>183 Lorriane Street LLC</td>\n",
       "      <td>Tom Sapienza</td>\n",
       "      <td>tsapienza@KLCNY.com</td>\n",
       "      <td>2128405588</td>\n",
       "      <td>183 Lorraine Street</td>\n",
       "      <td>Brooklyn</td>\n",
       "      <td>NY</td>\n",
       "      <td>11231</td>\n",
       "      <td>Wholesale/Warehouse/Distribution</td>\n",
       "      <td>...</td>\n",
       "      <td>NaN</td>\n",
       "      <td>BROOKLYN</td>\n",
       "      <td>40.673106</td>\n",
       "      <td>-74.002300</td>\n",
       "      <td>306.0</td>\n",
       "      <td>38.0</td>\n",
       "      <td>3336622.0</td>\n",
       "      <td>3.005720e+09</td>\n",
       "      <td>5302.0</td>\n",
       "      <td>BK0601</td>\n",
       "    </tr>\n",
       "    <tr>\n",
       "      <th>4</th>\n",
       "      <td>FY2018</td>\n",
       "      <td>21st Century Optics, Inc.</td>\n",
       "      <td>Ralph Woythaler</td>\n",
       "      <td>rwoythaler@21st centuryoptics.com</td>\n",
       "      <td>7183922310</td>\n",
       "      <td>47-00 33rd Street</td>\n",
       "      <td>Lond Island City</td>\n",
       "      <td>NY</td>\n",
       "      <td>11101</td>\n",
       "      <td>Manufacturing</td>\n",
       "      <td>...</td>\n",
       "      <td>NaN</td>\n",
       "      <td>QUEENS</td>\n",
       "      <td>40.742386</td>\n",
       "      <td>-73.932148</td>\n",
       "      <td>402.0</td>\n",
       "      <td>26.0</td>\n",
       "      <td>4003447.0</td>\n",
       "      <td>4.002520e+09</td>\n",
       "      <td>19901.0</td>\n",
       "      <td>QN0202</td>\n",
       "    </tr>\n",
       "  </tbody>\n",
       "</table>\n",
       "<p>5 rows × 30 columns</p>\n",
       "</div>"
      ],
      "text/plain": [
       "   Period                                 Company Name     company contact  \\\n",
       "0  FY2018                         139 ACA Realty, Inc.     Eitan Chandally   \n",
       "1  FY2018  141 Lake Avenue Realty c/o JR Produce, Inc.           Josef Raz   \n",
       "2  FY2018                       14-10 123rd Street LLC  Danica/Ivan Drazic   \n",
       "3  FY2018                      183 Lorriane Street LLC        Tom Sapienza   \n",
       "4  FY2018                    21st Century Optics, Inc.     Ralph Woythaler   \n",
       "\n",
       "                       company email company phone              Address  \\\n",
       "0                  barbara@dial7.com    7187076123    43-23 35th Street   \n",
       "1                jrproduce@gmail.com    7183708782      141 Lake Avenue   \n",
       "2          ddrazic@atjelectrical.com    7183210117   14-10 123rd Street   \n",
       "3                tsapienza@KLCNY.com    2128405588  183 Lorraine Street   \n",
       "4  rwoythaler@21st centuryoptics.com    7183922310    47-00 33rd Street   \n",
       "\n",
       "               City State  Postcode                          Industry  ...  \\\n",
       "0  Long Island City    NY     11101                        Commercial  ...   \n",
       "1     Staten Island    NY     10303  Wholesale/Warehouse/Distribution  ...   \n",
       "2     College Point    NY     11356                        Commercial  ...   \n",
       "3          Brooklyn    NY     11231  Wholesale/Warehouse/Distribution  ...   \n",
       "4  Lond Island City    NY     11101                     Manufacturing  ...   \n",
       "\n",
       "  Electric Savings    Borough   Latitude  Longitude  Community Board  \\\n",
       "0              NaN     QUEENS  40.745706 -73.929565            402.0   \n",
       "1              NaN  STATEN IS  40.632845 -74.151048            501.0   \n",
       "2              NaN     QUEENS  40.785144 -73.844833            407.0   \n",
       "3              NaN   BROOKLYN  40.673106 -74.002300            306.0   \n",
       "4              NaN     QUEENS  40.742386 -73.932148            402.0   \n",
       "\n",
       "  Council District        BIN           BBL  Census Tract (2020)  \\\n",
       "0             26.0  4003160.0  4.002220e+09              17902.0   \n",
       "1             49.0  5146740.0  5.011610e+09                239.0   \n",
       "2             19.0  4098344.0  4.040850e+09                929.0   \n",
       "3             38.0  3336622.0  3.005720e+09               5302.0   \n",
       "4             26.0  4003447.0  4.002520e+09              19901.0   \n",
       "\n",
       "   Neighborhood Tabulation Area (NTA) (2020)  \n",
       "0                                     QN0202  \n",
       "1                                     SI0107  \n",
       "2                                     QN0701  \n",
       "3                                     BK0601  \n",
       "4                                     QN0202  \n",
       "\n",
       "[5 rows x 30 columns]"
      ]
     },
     "execution_count": 6,
     "metadata": {},
     "output_type": "execute_result"
    }
   ],
   "source": [
    "data.head()"
   ]
  },
  {
   "cell_type": "code",
   "execution_count": 7,
   "id": "dd26e5fb",
   "metadata": {
    "scrolled": true
   },
   "outputs": [
    {
     "data": {
      "text/plain": [
       "Index(['Period', 'Company Name', 'company contact', 'company email',\n",
       "       'company phone', 'Address', 'City', 'State', 'Postcode', 'Industry',\n",
       "       'Industry descr', 'Company Type', 'Current fulltime', 'Job created',\n",
       "       'Job retain', 'Effective Date', 'Total Savings',\n",
       "       'Savings from beginning receiving benefits', 'Gas Savings',\n",
       "       'Cogen savings', 'Electric Savings', 'Borough', 'Latitude', 'Longitude',\n",
       "       'Community Board', 'Council District', 'BIN', 'BBL',\n",
       "       'Census Tract (2020)', 'Neighborhood Tabulation Area (NTA) (2020)'],\n",
       "      dtype='object')"
      ]
     },
     "execution_count": 7,
     "metadata": {},
     "output_type": "execute_result"
    }
   ],
   "source": [
    "data.columns"
   ]
  },
  {
   "cell_type": "code",
   "execution_count": 12,
   "id": "6820f930",
   "metadata": {},
   "outputs": [
    {
     "data": {
      "text/plain": [
       "(2363, 30)"
      ]
     },
     "execution_count": 12,
     "metadata": {},
     "output_type": "execute_result"
    }
   ],
   "source": [
    "data.shape"
   ]
  },
  {
   "cell_type": "markdown",
   "id": "39459896",
   "metadata": {},
   "source": [
    "How many different companies are represented in the data set?"
   ]
  },
  {
   "cell_type": "code",
   "execution_count": 8,
   "id": "efd1399e",
   "metadata": {},
   "outputs": [
    {
     "data": {
      "text/plain": [
       "0                              139 ACA Realty, Inc.\n",
       "1       141 Lake Avenue Realty c/o JR Produce, Inc.\n",
       "2                            14-10 123rd Street LLC\n",
       "3                           183 Lorriane Street LLC\n",
       "4                         21st Century Optics, Inc.\n",
       "                           ...                     \n",
       "2358             Works Manufacturing of Brooklyn NY\n",
       "2359                WorldWide Plumbing Supply, Inc.\n",
       "2360                                        WPC LLC\n",
       "2361                              WUD Furniture LLC\n",
       "2362                            Wurtec Incorporated\n",
       "Name: Company Name, Length: 2363, dtype: object"
      ]
     },
     "execution_count": 8,
     "metadata": {},
     "output_type": "execute_result"
    }
   ],
   "source": [
    "data.loc[, 'Company Name']"
   ]
  },
  {
   "cell_type": "code",
   "execution_count": 28,
   "id": "327dcbb7",
   "metadata": {
    "scrolled": true
   },
   "outputs": [
    {
     "data": {
      "text/plain": [
       "array(['139 ACA Realty, Inc.',\n",
       "       '141 Lake Avenue Realty c/o JR Produce, Inc.',\n",
       "       '14-10 123rd Street LLC', '183 Lorriane Street LLC',\n",
       "       '21st Century Optics, Inc.', '221 WEST 26TH STREET CORP.',\n",
       "       '24-60 47TH STREET, LLC', '2840 Atlantic Avenue Realty Corp',\n",
       "       '33RD STREET BAKERY INC. DBA PQ SOHO', '4C FOODS CORP.',\n",
       "       '4Over4.com', '538-540 West 35 Corp', 'A & L Scientific Corp.',\n",
       "       'A TO Z BOHEMIAN GLASS, INC.', 'A TO Z KOSHER MEAT PRODUCT CO.',\n",
       "       'A.K.S. International, Inc', 'ABIGAL PRESS, INC.',\n",
       "       'ARROW LINEN SUPPLY CO.',\n",
       "       'Achieve Beyond, Inc. (Formerly Bilinguals, Inc.)',\n",
       "       'ACME METAL CAP CO., INC./PETROFORM', 'ACME SMOKED FISH CORP.',\n",
       "       'Action Carting Environmental Services, Inc', 'Aesthetonics, Inc.',\n",
       "       'CN MANAGEMENT LLC', 'AFC INDUSTRIES, INC.',\n",
       "       'African Services Committee, Inc.', 'AGE MANUFACTURERS, INC.',\n",
       "       'AHAlife Holdings, Inc.', 'Aids Vaccine Advocacy Coalition',\n",
       "       'ALADDIN BAKERS, INC/Bread Head, LLC.',\n",
       "       'Albert Einstein College of Medicine of Yeshiva Uni',\n",
       "       'Alchemy Paintworks LLC', 'ALL AIRE CONDITIONING CO., INC.',\n",
       "       'All City Metal, Inc.', 'ALL CITY SWITCHBOARD CORP.',\n",
       "       'ALLE PROCESSING CORP.', 'Greenfelds LLC',\n",
       "       'ALLIED SAMPLE CARDS CO., INC.', 'ALRUE IMPORT COPR.',\n",
       "       'Amazon Corporate LLC', 'American Folk Art Museum',\n",
       "       'AMERICAN MEDICAL ALERT CORP.', 'American Torque, Inc.',\n",
       "       'American Transit Insurance Co', 'AMY SCHERBER, INC.',\n",
       "       'ANHEUSER BUSH', 'ANTHONY DALO WOODWORKING, INC.',\n",
       "       'Apex Logistics International (JFK), Inc',\n",
       "       'Applied Research & Consulting LLC',\n",
       "       'Approved Oil Co. of Brooklyn, Inc.',\n",
       "       'APR, INC., DBA EXPRESITO CARGA', 'APTHORP CLEANERS, INC.',\n",
       "       'ARDAVANIS REALTY CORPORATION', 'Arista Coffee, Inc.',\n",
       "       'Artex, Inc.', 'ASPRO MECHANICAL CONTRACTING, INC.',\n",
       "       'Asymptote Architecture, PLLC', 'ATLANTIS SEAFOOD WHOLESALE',\n",
       "       'AVI-SPL, Inc.', 'Azizo Imports, Inc.', 'B. Thayer Associates',\n",
       "       'LIBERTY HOUSE, INC.', 'B.C.S. INTERNATIONAL CORP.',\n",
       "       'B.E.L.L. Foundation (The)', 'B.P. AIR CONDITIONING CORP/',\n",
       "       'BACK TO AFRICA CORP.', 'BAGELS BY BELL AKA B&S BAILY, INC.',\n",
       "       'BALDOR SPECIALTY FOOD', 'BANNER SMOKED FISH, INC.',\n",
       "       'BARK FRAMEWORKS, INC.', 'BARKER BROTHERS',\n",
       "       'BARONE STEEL FABRICATORS, INC.', 'Belmont Metals',\n",
       "       'BENSON MILLS, INC.', 'Bermuda Motor Car REnting Co.',\n",
       "       'BEST CASE & ACCESSORIES, INC.', 'Best Choice Trading Corp',\n",
       "       'Best Mounting Corp.', 'Bestec Concept, Inc.', 'Bettertex',\n",
       "       'BEYER LIGHTNING FISH COMPANY', 'Big City Graphx, Inc.',\n",
       "       'Big Farm Corp.', 'Bigheavy Studios',\n",
       "       'BILLIE-ANN PLASTICS PKGING CORP', \"BIMMY''''S LLC\",\n",
       "       'Birns Telecommunication, Inc.', 'Bjork Carle Woodworking, Inc.',\n",
       "       'BLIND BUILDERS USA INC.', 'BLUE RIBBON FISH CO.',\n",
       "       'BLUE RIDGE TEA & HERB CO., LTD.', 'Blumberg Excelsior, Inc.',\n",
       "       'Bo Bo Poultry Market, Inc.', 'Box Services, LLC',\n",
       "       'BoyceTechnologies, Inc.', 'BRAGARD, INC.',\n",
       "       'Breuckelen Distilling Co., Inc.',\n",
       "       'Bronx Westchester Tempering, Inc',\n",
       "       'Brooklyn Bagel Ace Specialties LLC', 'Brooklyn Nets',\n",
       "       'BROOKLYN UNION GAS COMPANY', 'BROOKLYNPHONO, LLC', 'Burden, LLC',\n",
       "       'C. KENNETH IMPORTS, INC.', 'CALEB HALEY & CO.',\n",
       "       'CALYPSO ST. BARTH, INC.', 'CAMEO METAL PRODUCTS, INC.',\n",
       "       'CANDID LITHO PRINTING LTD.', 'Caples Jefferson Architects, PC',\n",
       "       'CARNEGIE LINEN SERVICES, INC.', 'CASA BUILDING MATERIALS, INC.',\n",
       "       'CASCON CHEESECAKE CORP.', 'CAVCO ROOFING, INC.',\n",
       "       'Center For Automotive Education and Training',\n",
       "       'CENTRE INTERIORS WOODWORKING CO.', 'CHARLES J. KING, INC.',\n",
       "       'Charles R.Gracie & Sons, Inc.', 'Chelsea Craft Brewing Co. LLC',\n",
       "       'Chelsea Plastics Corp/Plexi-Craft Quality Products',\n",
       "       'Child Center of NY, Inc.',\n",
       "       \"Christie''s Fine Art Storage Services, Inc\",\n",
       "       \"Christie''''''''''''''''s Inc.\", 'Chromation, Inc.',\n",
       "       'NECESSARY OBJECTS, LTD.', 'CINEMA WORLD PRODUCTS',\n",
       "       'CITARELLA OPERATING, LLC', 'Citibank, N.A.', 'City Aquarium LLC',\n",
       "       'City Baking LLC aka Bakery City LLC', 'Classic Cooking LLC',\n",
       "       'CLEARWATER FISH CO., INC.', 'Collins Building Services, Inc.',\n",
       "       'COLOR BY PERGAMENT LLC', 'Color Tex, Inc.', 'COMFORT BEDDING',\n",
       "       'COMMERCIAL COOLING SERVICE, INC.',\n",
       "       'Computer Services Group, Inc.', 'CONTROL ELECTROPOLISHING CORP.',\n",
       "       'COOL WIND VENTILATION CORP.',\n",
       "       'CORONET PARTS MANUFACTURING CO. INC', 'COSMOS COMMUNICATIONS',\n",
       "       'Cotronics Corporation', 'Crepini, LLC', 'CROWN FISH CO.',\n",
       "       'Crystal Lake Trading, Inc.', 'Cyracom International, Inc.',\n",
       "       'D C Group, Inc.', 'D.   C. CENTER CORP', 'D.V. TRADING CO., INC.',\n",
       "       'DAIRYLAND USA CORP.', 'DALOW INDUSTRIES, INC.', 'Daniel Scuderi',\n",
       "       'Dart Medical Labortory, Inc.', 'Dasny Mechanical Inc.',\n",
       "       'DCD Marketing Ltd.', 'Deep Draw Silver, Inc.',\n",
       "       \"DELL''''''''S MARASCHINO CHERRIES CO.\",\n",
       "       'DEPOSITORY TRUST COMPANY', 'DI DOMENICO & PARTNERS LLP',\n",
       "       'DIAMOND STREET PROPERTIES', 'MCM Enterprises, Inc.',\n",
       "       'Dinas Distribution Corp.', 'DLX INDUSTRIES, INC.',\n",
       "       'DONNELLY MECHANICAL CORP.', 'Down East & Seafood, Inc.',\n",
       "       'DOWN RIGHTS LTD.', 'Duce Construction Corp.',\n",
       "       'DUFOUR PASTRY KITCHEN, INC.', 'Dundy Glass & Mirror Corp.',\n",
       "       'DURA FOAM, INC.', 'East Coast Envelope & Graphics, LLC',\n",
       "       'EASTERN CONCEPTS, INC.', 'Eastern Effects, Inc.',\n",
       "       'Eastern Plating, Inc.', 'Echostar Satellite, LLC',\n",
       "       'Eclectic/Encore Properties, Inc.',\n",
       "       'ECONOMY PUMP & MOTOR REPAIR INC.', 'EDISON PRICE, INC.',\n",
       "       'Electronic Die Corp.', \"ELENI''S NYC, INC.\",\n",
       "       'EMERALD SEAFOOD CO., INC.', 'EMG Media, Inc.', 'Empire Merchants',\n",
       "       'Empress Media, Inc.', 'ENVELOPE MANUFACTURERS', 'Epic Pharma LLC',\n",
       "       'EPONYMOUS ASSOC., LLC DBA STEINER',\n",
       "       'Export Trade of America, Inc.', 'E-Z Ink, Inc.',\n",
       "       'FAIR FISH CO., INC.', 'Fairway Bakery LLC',\n",
       "       \"FALCONE''''S COOKIELAND, LTD.\", 'FAT WITCH BAKERY, INC.',\n",
       "       'Faviana International Inc', 'FAVORITE PLASTICS CO., INC.',\n",
       "       'Fay Da Manufacturing Corp.', 'FEDERAL EXPRESS',\n",
       "       'First United Distribution Corp.', 'Five Star Seafood, Inc.',\n",
       "       'FLYING SCOT CORPORATION', 'Food Saver, New York, Inc.',\n",
       "       'FoodFest Depot LLC', 'FOREST CITY PIERREPONT ASSOCIATES',\n",
       "       'Foster Reeve & Associates, Inc.', 'FRANK W. WILKISSON, INC.',\n",
       "       'Franke Gottsegen & Cox Architect.',\n",
       "       'FRED GELLER ELECTRICAL, INC.', 'Freeman Lewis LLP',\n",
       "       'FRESH DIRECT LLC', 'FULTON FERRY LIQUIDATOR',\n",
       "       'FURNITURE DESIGN BY KNOSSOS, INC.',\n",
       "       'G & G Manhattan Fruitier, Inc.', 'G & G SEAFOOD, INC.',\n",
       "       'G & J WHOLESALE ASSOCIATES, LLC',\n",
       "       'Gailer Stamping & Die Cutting, LLC',\n",
       "       'GENERAL HARDWARE MANUFACTURING',\n",
       "       'GLASSER MANUFACTURING CO., INC.',\n",
       "       'Global Container Terminal (GCT) New York LP',\n",
       "       'GNY FILET FISH CO., INC.', 'Gotham Greens Gowanus LLC',\n",
       "       'GOTHAM SEAFOOD CORP.', 'GOURMET BOUTIQUE LLC',\n",
       "       'Gourmet Guru, Inc.', 'Graf & Lewent Architects LLP',\n",
       "       'Graham Windham Organization', 'GRAND MERIDIAN PRINTINGS, INC.',\n",
       "       'Grandstand Sports & Memorabilia, Inc.',\n",
       "       'Greenpoint Avenue Realty LLC', 'GREENPOINT GROUP, LLC',\n",
       "       'Gustav Restoration LLC', 'H. FOX & CO., INC.',\n",
       "       'Halach Gold, Inc.', 'HALE & HEARTY SOUPS, LLC',\n",
       "       'HALL STREET COLD STORAGE WAREHOUSE,',\n",
       "       'HALMARK ARCHITECTUAL FINISHING', 'HEINSEN PRODUCTS, INC.',\n",
       "       'Helen Uffner Vintage Clothing, LLC', 'HELLMAN ELECTRIC CORP.',\n",
       "       'HELMS BROS. INC.', 'HENRY MODELL CO., INC.',\n",
       "       'HERCULES HEAT TREATING CORPORATION,',\n",
       "       'HERGO ERGONOMIC SYS., INC.', 'HI INTERIORS, INC.',\n",
       "       'Highline Locations LLC', 'Hindustan Granites, Inc.',\n",
       "       'HIRD/BLAKER, INC.', 'HI-TECH RESOURCE RECOVERY',\n",
       "       'HOME ENTERTAINMENT DESIGN, INC.', 'Hospital Audiences, Inc.',\n",
       "       'House of Spices (India), Inc',\n",
       "       'Hudson Moving & Storage Co., Inc.', 'Ideas by Barbara',\n",
       "       'Idlewild 228th Street LLC', 'IEH CORPORATION', 'Insek Design',\n",
       "       'IPT Name & Designs, Inc.', 'IRX Therapeutics, Inc.',\n",
       "       'J & B Realty LLC', 'J & J ASSOCIATES II LLC',\n",
       "       'J & J Johnson General Contracting Co., Inc.',\n",
       "       'J&S LICATA BROTHERS, INC', 'J. Crew Group, Inc.', 'J. SUSSMAN',\n",
       "       'J.A.P. Sportswear Ltd.', 'Jacques Torres Manufacturing LLC',\n",
       "       'JAMES CARPENTER DESIGN ASSOC., INC.', 'JANUS MANAGEMENT, INC.',\n",
       "       'Japanese Food Depot LLC', 'JDB Market Corp.',\n",
       "       'JetBlue Airways, Corp.', 'JETRO CASH & CARRY ENTERPRISES, INC',\n",
       "       'Jewels For Me, Inc.', 'JMS SEASONAL SEAFOOD CORP.',\n",
       "       'JOE MONANI FISH CO.', 'JOHN CARUSONE',\n",
       "       'Johnson Ingraham Associates', 'Josiah McElheny Studio',\n",
       "       'JUST BAGELS/ NORDQUIST ENTERPRISES', 'Just Salad 1st Avenue LLC',\n",
       "       'K Line Logistics (USA) Inc',\n",
       "       'K M S CONTRACTING INC dba Sure Iron Works',\n",
       "       'K. K. Machine Company, Inc.', 'Karr Graphics Corp.',\n",
       "       'KAS PRODUCTION CENTER LLC', 'Katiroll Company LLC, The',\n",
       "       'KATZ METAL FABRICATORS, INC.', 'KEPCO, INC.',\n",
       "       'KEW FOREST PLUMBING & HEATING, INC.', 'Kingsland 359 LLC',\n",
       "       'Kintetsu World Express (U.S.A.), Inc.', 'Kleins Naturals Ltd.',\n",
       "       'KONG KEE REALTY CORP', 'KRINOS FOODS, INC.', 'Kumo, Inc.',\n",
       "       'LaFarge North America', 'LAFAYETTE GRINDING CORP.',\n",
       "       'LEE SPRINGS COMPANY', 'Leemor Lilly, LLC',\n",
       "       'Lida Collection, Inc.', 'LIFE RESOURCES LLC',\n",
       "       'LIGHTING & SUPPLIES, INC.', 'LINDA TOOL', 'Lion Re:Sources',\n",
       "       'Liquid 8 Technology, Inc.', 'Liquid Knits, Inc.',\n",
       "       'Livestream LLC', 'Lobonav Corp', 'LOCKWOOD & WINANT',\n",
       "       'Lockwood Publications', 'Long Island Concrete, Inc.',\n",
       "       'Lou s Fish Market', 'LUCKY MCMXCVI, LLC DBA SUPERIOR',\n",
       "       'LUIS STERLING, INC.', 'M & A CUTTING, INC.',\n",
       "       'M&V PROVISIONS CO., INC.', 'M. SLAVIN & SONS, LTD.',\n",
       "       'Mack Glassnauth Iron Works, Inc.', 'MADAME PAULETTE, LIC, LLC',\n",
       "       'MADELAINE CHOCOLATE NOVELTIES, INC.',\n",
       "       'Magellan Aerospace New York, Inc', 'MAGIC NOVELTY CO., INC.',\n",
       "       'MAGNOLIA PLASTICS/PARADISE PLASTICS',\n",
       "       \"Maribel''''''''s Sweets, Inc.\", 'Maric Mechanical Inc.',\n",
       "       'MARILYN ROSEE/THERAPUTIC RESOURCES', 'MARJAM SUPPLY CO., INC.',\n",
       "       'Marley Spoon, Inc.', 'Matros Automated Electrical Const.',\n",
       "       'MAYA OVERSEAS FOOD, INC.', 'MCN DESIGN, INC.',\n",
       "       'Mechoshade Systems, Inc.', 'MEDITERRANEAN GYRO PRODUCTS',\n",
       "       'Melita Corporation', 'Menu Solutions, Inc.',\n",
       "       'Mesorah Publications, Ltd & Sefercraft, Inc', 'METALWORKS, INC.',\n",
       "       'MEURICE GARMENT CARE OF MANHASSET', 'Michael C. Fina Co, Inc',\n",
       "       'MILLENNIUM FRAMES LTD.', 'ML DESIGN, INC.',\n",
       "       'Modesti Brothers, Inc.', 'MONDIAL AUTOMOTIVE, INC.',\n",
       "       'MONTAUK SEAFOOD, INC.', 'MONTEBELLO FOOD CORP',\n",
       "       'Montefiore Medical Center',\n",
       "       \"MONTE''''''''S SEAFOOD EMPORIUM,UNIT 27\",\n",
       "       'MORGAN STANLEY & CO., INC.', 'MORRELL & COMPANY',\n",
       "       'MT. SINAI FISH INC.', 'MYSTIC DISPLAY CO., INC.',\n",
       "       'National Acoustics, Inc.', 'National Bias Binding Corp.',\n",
       "       'National Equipment Corp.',\n",
       "       'National Leather and Shoe Findings Co.',\n",
       "       'Natuzzi Bros Ice Co, Inc', 'Neighborhood Eigth Avenue LLC',\n",
       "       \"Neuman''''s Kitchen\", 'New Concepts of NY LLC',\n",
       "       'NEW YORK BLOOD CENTER',\n",
       "       'New York Digital Color Lithographers Printers, Inc',\n",
       "       'New York Fragrance', 'New York Insulation, Inc.',\n",
       "       'NEW YORKER WHOLESALE BAGELS, INC.', 'NFP Bakery MFG, Corp.',\n",
       "       'NIPPON EXPRESS U.S.A. INC.',\n",
       "       'NOEL VAZ/NORTHSTAR MECHANICAL CORP.', 'Norampac NYC Inc.',\n",
       "       'Nova Offset Corp', 'Novare LLC', 'NOVELTY CRYSTAL CORP.',\n",
       "       'Novo Arts Associates, Inc.', 'NU-LIFE DENTAL LABORATORIES, INC.',\n",
       "       'NULUX INDUSTRIES', 'NURGE AVENUE HOLDING CORP.',\n",
       "       'OCEANIA STREET ASSOCIATION', 'Office 118 Equities LLC',\n",
       "       'Oh Nuts Warehousing, Inc.', 'OKFocus LLC',\n",
       "       'OLD WILLIAMSBURGH CANDLE CORP.', 'One Stop Blueprinting LLC',\n",
       "       'OPINION ACCESS CORP.', 'Oven Artisans,  Inc.',\n",
       "       \"Pain D''Avignon III Ltd.\", 'Paper Enterprises, Inc.',\n",
       "       'Parallel Development Ltd.', 'Parkway Equipment Handlers, Inc.',\n",
       "       'Parsons-Meares Ltd.', 'PDM LITHO LTD.',\n",
       "       'PE Pastry (aka Financier Patisserie)', 'PEERLESS IMPORTERS, INC.',\n",
       "       'Pelican Bay Ltd.', 'Pencom Systems, Inc.',\n",
       "       'PENTAGRAM DESIGN, INC.', 'TEXRON COMMERCIAL AUTO BODY WORKS',\n",
       "       'PEPSI COLA BOTTLING CO., OF NY', 'PERRIGO NEW YORK',\n",
       "       'Petcap Press Corporation', 'PetCare Rx., Inc.',\n",
       "       'PFEIL & HOLDING, INC.', 'Phoenix Beverage',\n",
       "       'Picasso/Hoops, I Love New York LLC', 'Pinto & Teger Electric',\n",
       "       'POOK DIEMONT & OHL, INC.', 'POSTAL ENVELOPE CO., INC.',\n",
       "       'Poster Printers, Inc.', 'PREMIER PAINT ROLLER MFG. CO., INC.',\n",
       "       'Premium Millwork, Inc.', 'PRESTONE PRESS, LLC',\n",
       "       'PRINT 2 PRINT LLC', 'PROMPT REALTY LLC', 'Proxima, Inc',\n",
       "       'Quality Casting, Inc.', 'QUALITY OFFSET, LLC',\n",
       "       'Rainbow Plastics, Inc.', 'RANCHERS BEST WHOLESALE MEATS',\n",
       "       'RAPID PROCESSING, LLC', 'Rareform Carting, Inc.',\n",
       "       'RCN Telecom Services, Inc.', 'RD AMERICA, INC.',\n",
       "       'Real Coffee Roasters', 'REAL KOSHER ICE CREAM CO., INC.',\n",
       "       'Red Rabbit LLC', 'REFLECTIVE X-RAY OPTICS LLC',\n",
       "       'REGAL HOME COLLECTIONS', 'REINFORCING SUPPLY LLC',\n",
       "       'Rhonda Feinman Custom Frames, Inc.',\n",
       "       'Riva Jewelry Manufacturing, Inc.', 'ROANWELL CORPORATION',\n",
       "       \"ROGELIO''S WAY/DIGITAL LAUNDRY\", 'Rolex Watch USA, Inc.',\n",
       "       'ROSCO, INC.', 'ROSENTHAL WINE MERCHANT (NY), LTD.',\n",
       "       'ROTH METAL WORKS INC.', 'Roxy Paine LLC',\n",
       "       'ROYAL AIRLINE LAUNDRY SERVICES CORP', 'ROYAL BALTIC, INC.',\n",
       "       'ROYAL DEVELOPMENT, INC.', 'ROYAL INDUSTRIES INTERNATIONAL LTD.',\n",
       "       'RUGUS REALTY, INC. DBA MISS GRIMBLE',\n",
       "       'RWS & Associates Entertainment', 'S&L AEROSPACE METALS LLC',\n",
       "       'S. BROOME & COMPANY', 'Sadowsky Guitars, Ltd.',\n",
       "       'Safe Art Sat, Inc.', 'SAHADI FINE FOODS, INC.',\n",
       "       'SAMUEL FELDMAN LUMBER, INC.', 'SCHREIBER PROCESSING CORP.',\n",
       "       'Sculpture House Casting, Inc.', 'SEQUINS INTERNATIONAL INC.',\n",
       "       'SFA INTERIORS, INC.', 'Shloms Heimish Corp', 'SIGNS DECAL CORP.',\n",
       "       'SILLY PHILLIE CREATIONS, INC.', 'Silver Hill Atelier, LLC',\n",
       "       'SILVERCUP STUDIOS ASSOCIATES LP',\n",
       "       'Silverman Ceramics, LLC/Alsio Design, LLC', 'Simon Liu, Inc.',\n",
       "       'Simone Management Group, Inc.', 'Sizzal, LLC',\n",
       "       'Skyline Windows, LLC', 'SO Accurate Group, Inc.',\n",
       "       'SOLCO PLUMBING SUPPLY, INC.', 'SOUTH STREET SEAFOOD',\n",
       "       'Spaeth Design, Inc.', 'STALLION, INC.', 'Stand And Build LLC',\n",
       "       'Stanley Pleating & Stitching Co', 'Studio UG',\n",
       "       'SUB-STATION NUMBER 4 LLC', 'Superflex, Ltd',\n",
       "       \"SWEET SAM''''S BAKING CO., LLC\", 'T & L Creative Salads',\n",
       "       'T & M Richardson Street LLC', 'TAKOS AND K ELECTRIC, INC.',\n",
       "       'TECHNICAL LIBRARY SERVICE, INC.',\n",
       "       'TECTONIC ENGINEERING & SURVEYING CONSULTANTS PC',\n",
       "       'TED KAUFFMAN/EASTERN CONNECTION', 'THE BANK OF NEW YORK',\n",
       "       'The Gluck Architectural Collaborative, P.C.',\n",
       "       'The Handy Tool & Mfg. Co., Inc.', 'The I Grace Company',\n",
       "       'The Lobster Place, Inc.', 'THE NEW FULTON FISH MARKET',\n",
       "       'The Woodwrights', 'THEODOSIOU', 'THIRD GENERATION SEAFOOD, INC.',\n",
       "       'THOMAS C. WILSON, INC.', 'THOMAS M. AMATO',\n",
       "       'TI Ozone Park Storage LLC', 'TIME WARNER ENTERTAINMENT CO. LP',\n",
       "       'TIN SHING REALTY, INC.', 'TITAN MACHINE',\n",
       "       'Ti-Tone Communications, Inc.', 'TONY CRAB KING', 'TOURNEAU, INC.',\n",
       "       'Tracy Watts, Inc.', 'TRANSCONTINENTAL ULTRA FLEX , INC.',\n",
       "       'TRINE ROLLED MOULDING CORP', 'TRI-STATE CAMERA EXCHANGE, INC.',\n",
       "       'TRIUMPH CONSTRUCTION, INC.', 'Tropicana Products Sales, Inc.',\n",
       "       \"TUFO''''''''S WHOLESALE DAIRY INC.\", 'Twin Marquis, Inc',\n",
       "       'Twoseven Inc.', 'Tyme Food, Inc.', 'U S BALLOON MFG. CO., INC.',\n",
       "       'Ulano Coporation', 'ULTRA CREATIVE CORP.', 'Uncommon Goods LLC',\n",
       "       'United Air Conditioning Corp', 'UNITED FEDERATION OF TEACHERS',\n",
       "       'United Nations Federal Credit Union', 'Uniworld Group Inc.',\n",
       "       'Urban Archaeology, LTD', 'Urban Electric Power, LLC',\n",
       "       'Urban Green LLC', 'USTA NATIONAL TENNIS CENTER, INC.',\n",
       "       'UTI, UNITES STATES, INC.', 'UTILITY BRASS & BRONZE',\n",
       "       'Valon Realty, LLC', \"VAL''''S OCEAN PACIFIC SEAFOOD\",\n",
       "       'VANBRO CORPORATION', 'Vernon Lakes Partners',\n",
       "       'VISITING NURSE SERVICE OF NEW YORK', 'VISY PAPER RECYCLING',\n",
       "       'VIVA TIME CORP.', 'W Architecture & Landscape Architecture LLC',\n",
       "       'WALDORF BAKERY, INC. DBA MAURICE',\n",
       "       'WALL STREET MAIL PICK-UP SERVICE',\n",
       "       'Walsh Electrical Contracting Inc.', 'WATER LILIES FOOD, INC.',\n",
       "       'WATERBURY SEABURY LLC', 'WATERMARK DESIGN, LTD.', 'WAY FONG LLC',\n",
       "       'Weapons Specialist Ltd', 'WHBI LLC',\n",
       "       'Whipped Pastry Boutique, Inc.', 'White Coffee Corporation',\n",
       "       'WIGGBY PRECISION MACHINE CORP.',\n",
       "       'WILDA IMPORT EXPORT CORPORATION', 'William Hird & Co., Inc.',\n",
       "       'WILLIAMS SEAFOOD, INC.', 'WOLF-GORDON CO., INC.',\n",
       "       'WONTON FOOD, INC.', 'WORKSMAN TRADING CORP.', 'WUD Furniture LLC',\n",
       "       'ZECRON TEXTILE, INC.', 'Zeluck, Inc.', '100 Church LLC',\n",
       "       '100 Wall Investments', '120 Broadway Acquisitions JV, LLC (Ldmk)',\n",
       "       '120 Wall Street, LLC', '125 Broad Unit A LLC', '17 Battery Place',\n",
       "       '17 State Street, LLC', '195 Broadway, LLC', '25 Broadway (Ldmk)',\n",
       "       '40 Wall Street LLC', '55 Water, LLC',\n",
       "       '7 Hanover Square Associates', '72andSunny Partners LLC',\n",
       "       '75 Broad Street', 'ADP Oak Point LLC',\n",
       "       'Albert Einstein College of Medicine R&D', 'Allison Eden Studios',\n",
       "       'AMCI, LTD.', 'B.C.S. International Corporation',\n",
       "       'Bermuda Motor Car Renting Co.', \"BIMMY''''''''S LLC\",\n",
       "       'B-Reel Creative Agency, Inc.', 'Brooklyn Immuno Therapeutics LLC',\n",
       "       'Brooklyn Wholesale Bakery LLC', 'Brunetti & Brunetti LLC',\n",
       "       'Chase Bank, N.A.', 'Concept Farm, Inc.',\n",
       "       'Constitution Realty LLC (Ldmk)', 'DBAB Wall Street, LLC.',\n",
       "       'Delvi Realty Corp.', 'Deutsche Bank Securities, Inc.',\n",
       "       'Dr. Smood New York Production LLC', 'Hall Street Storage LLC',\n",
       "       'Harry Brainum Jr., Inc.', 'JPR Mechanical Inc.',\n",
       "       'Kickstarter, Inc.', 'Kleinberg Electric, Inc',\n",
       "       'Krasnyi Oktybar, Inc.', 'Marathon Energy Corp',\n",
       "       \"Maribel''''''''''''''''s Sweets, Inc.\",\n",
       "       'METROPOLITAN LIFE INSURANCE CO.', 'MKJ Communications, Inc',\n",
       "       'Modern Windor & Door, Inc.', 'Morgan & Morgan P.A.',\n",
       "       'NEW PALACE PAINTERS SUPPLY CO., INC.', 'NY Telephone #11194',\n",
       "       'Pilotworks Brooklyn, LLC', 'Presentation Products, Inc.',\n",
       "       'Rufus Corporation', 'SDC Designs LLC', 'Sharan Builders, Inc.',\n",
       "       'Sky High Murals - Colossal Media, Inc.', 'Spectrum',\n",
       "       'Square Roots Urban Growers, Inc.', 'The Bronx Brewery LLC',\n",
       "       'The Dime Savings Bank of Williamsburg',\n",
       "       'Treasure Asset Storage LLC', 'Trinity Morris Corp',\n",
       "       'UTC Corporation', 'Van Blarcom Closures Inc', 'VaynerMedia LLC',\n",
       "       'Wild Edibles, Inc.', 'Wood Works', '1 State Street',\n",
       "       '1-10 Bush Terminal Owner LP', '2 Rector Street (NY) LLC',\n",
       "       'ABEL CINE TECH, INC.', 'Accenture LLP',\n",
       "       'AECOM Technical Services Inc', 'Allstate Medical Supplies LLC',\n",
       "       'American Bridge Company', 'Apple Bank for Savings',\n",
       "       'Armada New York LLC', 'BACO ENTERPRISES, INC.',\n",
       "       'Barry X. Ball Studio, Inc.', 'BCGA Concept Corporation',\n",
       "       \"BIMMY'S LLC\", 'BRIDGE PLAZA ASSOCIATES LLC',\n",
       "       'Bronx River Media Group, LLC', 'Carlton House Restoration, Inc.',\n",
       "       'Casual Films, Inc.', \"Christie's Fine Art Storage Services, Inc\",\n",
       "       \"Christie's Inc.\", 'Comp Trading LLC', 'D.C. CENTER CORP',\n",
       "       'D.S. & Durga LLC', 'E&C Property Holdings South, Inc.',\n",
       "       'E. J. York, Inc.', 'Estee Lauder Companies, Inc',\n",
       "       'Evergreen 105 LLC', 'EverGreene Architectural Arts, Inc.',\n",
       "       \"FALCONE'S COOKIELAND, LTD.\", 'Fidelity Payment Services Ltd.',\n",
       "       'GBW LLC', 'gCreate LLC', 'Globus Cork, Inc.',\n",
       "       'Goldstein Capital Corp', 'Grimm Ales LLC',\n",
       "       'HALO  Recognition, Inc', 'Hi Tech Metals, Inc.',\n",
       "       'HUSH Studios, Inc.', 'Hydromx, Inc.', 'I. AM. Malia Mills, LLC',\n",
       "       'IDL Communications and Electric, Inc', 'Ikea Holding U.S., Inc.',\n",
       "       'Inner Gaze Furniture Designs, Inc.', 'Iron Mountain',\n",
       "       'Jetro Cash & Carry Enterprises LLC', 'KAUFMAN Astoria Studios',\n",
       "       'Kickstarter, PBC', 'Kopelevich & Feldsherova, PC',\n",
       "       'Lafayette 148, Inc', \"M & R CPA's LLP\", \"Maribel's Sweets, Inc.\",\n",
       "       'Marina Ice Cream Corp.', 'McInnis USA Inc.',\n",
       "       'Music Arhive Collection LLC Floor 2 and 3', 'MYT Works, Inc',\n",
       "       \"Neuman's Kitchen\", 'New Heydenryk, LLC', 'New Water Street  Corp',\n",
       "       'Noho Health, Inc', 'Octopus Garden, Inc/Octopus Two Corp',\n",
       "       'One Girl Cookies, Ltd.', 'Other Half Brewing, Co,',\n",
       "       \"Pain D'Avignon III Ltd.\", 'Picture Farm II, LLC',\n",
       "       'Postmeds, Inc.', 'R Simon Design, Inc.',\n",
       "       'RDS Delivery Services, Co., Inc.',\n",
       "       'Richards Plumbing & Heating Co., Inc.',\n",
       "       \"ROGELIO'S WAY/DIGITAL LAUNDRY\", 'Rogers Surveying PLLC.',\n",
       "       'Rony Elka Vardi, Inc', 'Russ Ops LLC', 'SILVERCUP Services LLC',\n",
       "       'SIM Digital New York', \"SIMON''S HARDWARE\",\n",
       "       'Skyline Restoration, Inc.', 'SoHarlem  Inc.', 'Spin Master, Inc.',\n",
       "       'SSJ Contracting', 'SSP America, Inc.', 'StinkDigital USA LLC',\n",
       "       'Sunset Park Farm LLC', \"SWEET SAM'S BAKING CO., LLC\",\n",
       "       'T & Z Properties LLC', 'TEI Group', 'Toner Quest, Inc.',\n",
       "       'Transmitter Brewing LLC', 'Tristate Plumbing Services, Inc.',\n",
       "       \"TUFO'S WHOLESALE DAIRY INC.\", 'Ulano Corporation',\n",
       "       'Vera Institute of Justice, Inc.', 'Werwaiss & Co., Inc.',\n",
       "       'WHITEHEAD COMPANY, INC.', 'Williams Sonoma, Inc.',\n",
       "       'WorldWide Plumbing Supply, Inc.', 'Wurtec Incorporated',\n",
       "       'Gadol Realty Corp', 'Bartenschlager Woodwork LLC',\n",
       "       'BG Bindery, Inc', 'Big Orange Sheep, Inc.',\n",
       "       \"BIMMY''''''''''''''''S LLC\", 'Gotham Sake LLC',\n",
       "       'Bridge Plaza Associates LLC', 'Buck Design LLC',\n",
       "       \"Christie''''s Fine Art Storage Services, Inc\",\n",
       "       'Christopher Webb Films, Inc.', 'CTAC Holdings LLC',\n",
       "       'DNJ Industries, Inc.', 'Egg Collective LLC', 'Fine & Raw LLC',\n",
       "       'Fortress Hill EPS Inc', 'Gabrielli Truck Sales Ltd',\n",
       "       'Graphics Service Bureau, Inc.',\n",
       "       'Great Performances/Artists As Waitresses Inc',\n",
       "       'Hospice of New York LLC', 'IDK Cooling Corp',\n",
       "       'Jewel Street Realty LLC', 'Kamco Supply Corp.',\n",
       "       'Kroll Restructuring Administration LLC',\n",
       "       \"M & R CPA''''''''''''''''s LLP\",\n",
       "       'Maquette Fine Arts Services LLC',\n",
       "       \"Maribel''''''''''''''''''''''''''''''''s Sweets, Inc.\",\n",
       "       'Montford Workshop, Inc.', 'Music Archive Collection LLC',\n",
       "       'National Benefit  Life Insurance, Co.', 'Northwell Health, Inc',\n",
       "       \"Pain D''''''''''''''''''''''''''''''''Avignon III Ltd.\",\n",
       "       'Per.Se Beauty Incorporated', 'Rachel Cho, Inc.',\n",
       "       'Silvercup Services LLC', 'Spatial Relations LLC',\n",
       "       'Standard Spirit Corporation',\n",
       "       \"SWEET SAM''''''''S BAKING CO., LLC\", 'Talea Beer, Inc',\n",
       "       'Alsio Design, LLC', 'Brilliant Jewelers/MJJ, Inc.',\n",
       "       'Brooklyn Bakery Inc.', 'C&G A-Plus Interior remodeling',\n",
       "       'Cine Magic LIC Studio LLC', 'Control Electropolishing Corp',\n",
       "       'Craighill LLC', 'Dead Cities Clothing', 'Dreaming Up Sweets LLC',\n",
       "       'Eden Works, Inc.', 'Final Push Construction, Inc.',\n",
       "       'Foliage & Floral Design Inc', 'Fundraise Up, Inc',\n",
       "       'Hana Makgeolli LLC', 'Imvela Corp.',\n",
       "       'Italian Food Philosophy LLC', 'Jenna Gang Photography',\n",
       "       'Jouffre Inc.', 'Kitchen Commons Inc', 'KLEIN REID L.L.C',\n",
       "       'Lux Lighting LLC', 'Matsuyama Studio LLC', 'Montana Datacom Inc.',\n",
       "       'Mother Industries LLC', 'Opticology, Inc.',\n",
       "       'Oso Industries, Inc.', 'Picture Car Services Ltd',\n",
       "       'Proof of Concept LLC', 'R Limited Liability Company',\n",
       "       'Robert Lazzarini Studio', \"ROGELIO''''S WAY/DIGITAL LAUNDRY\",\n",
       "       'Ryan Sullivan', 'Solar Energy Systems, LLC',\n",
       "       'Stephanie Frank Studio', 'Steve Giralt Photography LLC',\n",
       "       'Structure Ventures LLC', 'Sussman-Automatic Corporation',\n",
       "       'TOURNEAU, LLC', 'Uberto Ltd.',\n",
       "       'Wellstone NYC Custom Woodworking LLC',\n",
       "       'Works Manufacturing of Brooklyn NY', 'WPC LLC'], dtype=object)"
      ]
     },
     "execution_count": 28,
     "metadata": {},
     "output_type": "execute_result"
    }
   ],
   "source": [
    "unique_name=data.loc[:, 'Company Name'].unique()\n",
    "unique_name"
   ]
  },
  {
   "cell_type": "code",
   "execution_count": 41,
   "id": "ee87ddbf",
   "metadata": {
    "scrolled": true
   },
   "outputs": [
    {
     "data": {
      "text/html": [
       "<div>\n",
       "<style scoped>\n",
       "    .dataframe tbody tr th:only-of-type {\n",
       "        vertical-align: middle;\n",
       "    }\n",
       "\n",
       "    .dataframe tbody tr th {\n",
       "        vertical-align: top;\n",
       "    }\n",
       "\n",
       "    .dataframe thead th {\n",
       "        text-align: right;\n",
       "    }\n",
       "</style>\n",
       "<table border=\"1\" class=\"dataframe\">\n",
       "  <thead>\n",
       "    <tr style=\"text-align: right;\">\n",
       "      <th></th>\n",
       "      <th>Period</th>\n",
       "      <th>Company Name</th>\n",
       "      <th>Job created</th>\n",
       "    </tr>\n",
       "  </thead>\n",
       "  <tbody>\n",
       "    <tr>\n",
       "      <th>50</th>\n",
       "      <td>FY2018</td>\n",
       "      <td>APR, INC., DBA EXPRESITO CARGA</td>\n",
       "      <td>5.0</td>\n",
       "    </tr>\n",
       "    <tr>\n",
       "      <th>627</th>\n",
       "      <td>FY2019</td>\n",
       "      <td>APR, INC., DBA EXPRESITO CARGA</td>\n",
       "      <td>5.0</td>\n",
       "    </tr>\n",
       "  </tbody>\n",
       "</table>\n",
       "</div>"
      ],
      "text/plain": [
       "     Period                    Company Name  Job created\n",
       "50   FY2018  APR, INC., DBA EXPRESITO CARGA          5.0\n",
       "627  FY2019  APR, INC., DBA EXPRESITO CARGA          5.0"
      ]
     },
     "execution_count": 41,
     "metadata": {},
     "output_type": "execute_result"
    }
   ],
   "source": [
    "data.loc[data.loc[:,\"Company Name\"]==unique_name[50],['Period','Company Name','Job created']]"
   ]
  },
  {
   "cell_type": "code",
   "execution_count": 23,
   "id": "68e960ec",
   "metadata": {
    "scrolled": true
   },
   "outputs": [
    {
     "data": {
      "text/plain": [
       "(787,)"
      ]
     },
     "execution_count": 23,
     "metadata": {},
     "output_type": "execute_result"
    }
   ],
   "source": [
    "data.loc[:, 'Company Name'].unique().shape"
   ]
  },
  {
   "cell_type": "markdown",
   "id": "552fd279",
   "metadata": {},
   "source": [
    "What is the total number of jobs created for businesses in Queens?\n"
   ]
  },
  {
   "cell_type": "code",
   "execution_count": 50,
   "id": "3700eee1",
   "metadata": {},
   "outputs": [
    {
     "data": {
      "text/plain": [
       "Job created    12257.0\n",
       "dtype: float64"
      ]
     },
     "execution_count": 50,
     "metadata": {},
     "output_type": "execute_result"
    }
   ],
   "source": [
    "data.loc[data.loc[:,'City']=='Queens', ['Job created']].sum()"
   ]
  },
  {
   "cell_type": "markdown",
   "id": "bdc65eac",
   "metadata": {},
   "source": [
    "How many different unique email domains names are there in the data set?\n"
   ]
  },
  {
   "cell_type": "code",
   "execution_count": 51,
   "id": "d29a5fcf",
   "metadata": {},
   "outputs": [],
   "source": [
    "email_addresses = data['company email']"
   ]
  },
  {
   "cell_type": "code",
   "execution_count": 52,
   "id": "ced921e6",
   "metadata": {},
   "outputs": [
    {
     "data": {
      "text/plain": [
       "0                       barbara@dial7.com\n",
       "1                     jrproduce@gmail.com\n",
       "2               ddrazic@atjelectrical.com\n",
       "3                     tsapienza@KLCNY.com\n",
       "4       rwoythaler@21st centuryoptics.com\n",
       "                      ...                \n",
       "2358                   aleks@worksmfg.com\n",
       "2359                     sheidya@wwps.com\n",
       "2360               robertwpcllc@yahoo.com\n",
       "2361               keren@wudfurniture.com\n",
       "2362            diego.alvarado@wurtec.com\n",
       "Name: company email, Length: 2363, dtype: object"
      ]
     },
     "execution_count": 52,
     "metadata": {},
     "output_type": "execute_result"
    }
   ],
   "source": [
    "email_addresses"
   ]
  },
  {
   "cell_type": "code",
   "execution_count": 70,
   "id": "a5ae7f9f",
   "metadata": {},
   "outputs": [],
   "source": [
    "email_addresses = [str(address) for address in email_addresses]"
   ]
  },
  {
   "cell_type": "code",
   "execution_count": 71,
   "id": "624bc8f1",
   "metadata": {},
   "outputs": [
    {
     "data": {
      "text/plain": [
       "'dial7.com'"
      ]
     },
     "execution_count": 71,
     "metadata": {},
     "output_type": "execute_result"
    }
   ],
   "source": [
    "email_addresses[0].split(\"@\")[1]"
   ]
  },
  {
   "cell_type": "code",
   "execution_count": 62,
   "id": "fdc8b84f",
   "metadata": {},
   "outputs": [
    {
     "data": {
      "text/plain": [
       "'BARBARA@DIAL7.COM'"
      ]
     },
     "execution_count": 62,
     "metadata": {},
     "output_type": "execute_result"
    }
   ],
   "source": [
    "email_addresses[0].upper()"
   ]
  },
  {
   "cell_type": "code",
   "execution_count": 72,
   "id": "91776a16",
   "metadata": {},
   "outputs": [],
   "source": [
    "domain_names = [address.upper() for address in email_addresses]"
   ]
  },
  {
   "cell_type": "code",
   "execution_count": 79,
   "id": "7ca27963",
   "metadata": {},
   "outputs": [],
   "source": [
    "valid_domain_names = [address.split(\"@\")[1].lower() for address in email_addresses if '@'in address]"
   ]
  },
  {
   "cell_type": "code",
   "execution_count": 94,
   "id": "1eacd0b6",
   "metadata": {},
   "outputs": [
    {
     "data": {
      "text/plain": [
       "2205"
      ]
     },
     "execution_count": 94,
     "metadata": {},
     "output_type": "execute_result"
    }
   ],
   "source": [
    "len(valid_domain_names)"
   ]
  },
  {
   "cell_type": "code",
   "execution_count": 81,
   "id": "372a5b9e",
   "metadata": {},
   "outputs": [],
   "source": [
    "invalid_domain_names = [address for address in email_addresses if '@' not in address]"
   ]
  },
  {
   "cell_type": "code",
   "execution_count": 82,
   "id": "6c932fd2",
   "metadata": {},
   "outputs": [
    {
     "data": {
      "text/plain": [
       "['nan',\n",
       " 'nan',\n",
       " 'Johnmdallcitymetal.com',\n",
       " 'officegreenfelds.com',\n",
       " 'nan',\n",
       " 'nan',\n",
       " 'nan',\n",
       " 'billieannplastics.com',\n",
       " 'nan',\n",
       " 'nan',\n",
       " 'jgewitrtzbrooklynnets.com',\n",
       " 'nan',\n",
       " 'nan',\n",
       " 'nan',\n",
       " 'nan',\n",
       " 'Computer Services Group, Inc.',\n",
       " 'nan',\n",
       " 'nan',\n",
       " 'nan',\n",
       " 'nan',\n",
       " 'pinagracesmarketplace.com',\n",
       " 'nan',\n",
       " 'nan',\n",
       " 'nan',\n",
       " 'nan',\n",
       " 'nan',\n",
       " 'nan',\n",
       " 'nan',\n",
       " 'nan',\n",
       " 'nan',\n",
       " 'nan',\n",
       " 'nan',\n",
       " 'nan',\n",
       " 'nan',\n",
       " 'nan',\n",
       " 'nan',\n",
       " 'nan',\n",
       " 'nan',\n",
       " 'nan',\n",
       " 'nan',\n",
       " 'adenovarebiologistics.com',\n",
       " 'nan',\n",
       " 'nan',\n",
       " 'nan',\n",
       " 'nan',\n",
       " 'promptapparel.com',\n",
       " 'nan',\n",
       " 'nan',\n",
       " 'nan',\n",
       " 'nan',\n",
       " 'nan',\n",
       " 'nan',\n",
       " 'nan',\n",
       " 'nan',\n",
       " 'nan',\n",
       " 'nan',\n",
       " 'benjanusproperty.com',\n",
       " 'urbangreenfurniture.com',\n",
       " 'nan',\n",
       " 'nan',\n",
       " 'nan',\n",
       " 'www.bme.coumbia.edu/-sia',\n",
       " 'nan',\n",
       " 'nan',\n",
       " 'nan',\n",
       " 'nan',\n",
       " 'nan',\n",
       " 'nan',\n",
       " 'nan',\n",
       " 'nan',\n",
       " 'nan',\n",
       " 'Johnmdallcitymetal.com',\n",
       " 'nan',\n",
       " 'nan',\n",
       " 'billieannplastics.com',\n",
       " 'nan',\n",
       " 'nan',\n",
       " 'jgewitrtzbrooklynnets.com',\n",
       " 'nan',\n",
       " 'Computer Services Group, Inc.',\n",
       " 'nan',\n",
       " 'nan',\n",
       " 'nan',\n",
       " 'nan',\n",
       " 'pinagracesmarketplace.com',\n",
       " 'officegreenfelds.com',\n",
       " 'nan',\n",
       " 'nan',\n",
       " 'nan',\n",
       " 'nan',\n",
       " 'nan',\n",
       " 'nan',\n",
       " 'nan',\n",
       " 'nan',\n",
       " 'nan',\n",
       " 'nan',\n",
       " 'nan',\n",
       " 'nan',\n",
       " 'nan',\n",
       " 'nan',\n",
       " 'nan',\n",
       " 'nan',\n",
       " 'adenovarebiologistics.com',\n",
       " 'nan',\n",
       " 'nan',\n",
       " 'nan',\n",
       " 'nan',\n",
       " 'promptapparel.com',\n",
       " 'nan',\n",
       " 'nan',\n",
       " 'nan',\n",
       " 'nan',\n",
       " 'nan',\n",
       " 'nan',\n",
       " 'nan',\n",
       " 'urbangreenfurniture.com',\n",
       " 'nan',\n",
       " 'nan',\n",
       " 'nan',\n",
       " 'nan',\n",
       " 'nan',\n",
       " 'nan',\n",
       " 'billieannplastics.com',\n",
       " 'nan',\n",
       " 'jgewitrtzbrooklynnets.com',\n",
       " 'nan',\n",
       " 'nan',\n",
       " 'nan',\n",
       " 'nan',\n",
       " 'officegreenfelds.com',\n",
       " 'nan',\n",
       " 'nan',\n",
       " 'nan',\n",
       " 'nan',\n",
       " 'nan',\n",
       " 'nan',\n",
       " 'adenovarebiologistics.com',\n",
       " 'nan',\n",
       " 'nan',\n",
       " 'urbangreenfurniture.com',\n",
       " 'nan',\n",
       " 'nan',\n",
       " 'jgeweirtzbseglobal.net',\n",
       " 'nan',\n",
       " 'nan',\n",
       " 'nan',\n",
       " 'nan',\n",
       " 'officegreenfelds.com',\n",
       " 'nan',\n",
       " 'nan',\n",
       " 'nan',\n",
       " 'jgeweirtzbseglobal.net',\n",
       " 'nan',\n",
       " 'officegreenfelds.com',\n",
       " 'nan',\n",
       " 'nan',\n",
       " 'nan',\n",
       " 'nan']"
      ]
     },
     "execution_count": 82,
     "metadata": {},
     "output_type": "execute_result"
    }
   ],
   "source": [
    "invalid_domain_names"
   ]
  },
  {
   "cell_type": "code",
   "execution_count": 90,
   "id": "4ffa3ffb",
   "metadata": {},
   "outputs": [
    {
     "data": {
      "text/plain": [
       "['Johnmdallcitymetal.com',\n",
       " 'officegreenfelds.com',\n",
       " 'billieannplastics.com',\n",
       " 'jgewitrtzbrooklynnets.com',\n",
       " 'pinagracesmarketplace.com',\n",
       " 'adenovarebiologistics.com',\n",
       " 'promptapparel.com',\n",
       " 'benjanusproperty.com',\n",
       " 'urbangreenfurniture.com',\n",
       " 'Johnmdallcitymetal.com',\n",
       " 'billieannplastics.com',\n",
       " 'jgewitrtzbrooklynnets.com',\n",
       " 'pinagracesmarketplace.com',\n",
       " 'officegreenfelds.com',\n",
       " 'adenovarebiologistics.com',\n",
       " 'promptapparel.com',\n",
       " 'urbangreenfurniture.com',\n",
       " 'billieannplastics.com',\n",
       " 'jgewitrtzbrooklynnets.com',\n",
       " 'officegreenfelds.com',\n",
       " 'adenovarebiologistics.com',\n",
       " 'urbangreenfurniture.com',\n",
       " 'jgeweirtzbseglobal.net',\n",
       " 'officegreenfelds.com',\n",
       " 'jgeweirtzbseglobal.net',\n",
       " 'officegreenfelds.com']"
      ]
     },
     "execution_count": 90,
     "metadata": {},
     "output_type": "execute_result"
    }
   ],
   "source": [
    "extra_addresses = [address for address in invalid_domain_names if ('.com' in address) or ('.net' in address)]\n",
    "extra_addresses"
   ]
  },
  {
   "cell_type": "code",
   "execution_count": 88,
   "id": "9a01f938",
   "metadata": {},
   "outputs": [
    {
     "data": {
      "text/plain": [
       "{'Johnmdallcitymetal.com',\n",
       " 'adenovarebiologistics.com',\n",
       " 'benjanusproperty.com',\n",
       " 'billieannplastics.com',\n",
       " 'jgeweirtzbseglobal.net',\n",
       " 'jgewitrtzbrooklynnets.com',\n",
       " 'officegreenfelds.com',\n",
       " 'pinagracesmarketplace.com',\n",
       " 'promptapparel.com',\n",
       " 'urbangreenfurniture.com'}"
      ]
     },
     "execution_count": 88,
     "metadata": {},
     "output_type": "execute_result"
    }
   ],
   "source": [
    "extra = set(extra_addresses)\n",
    "extra"
   ]
  },
  {
   "cell_type": "code",
   "execution_count": 93,
   "id": "9b2b5482",
   "metadata": {},
   "outputs": [
    {
     "data": {
      "text/plain": [
       "10"
      ]
     },
     "execution_count": 93,
     "metadata": {},
     "output_type": "execute_result"
    }
   ],
   "source": [
    "len(extra)"
   ]
  },
  {
   "cell_type": "markdown",
   "id": "97cb49bc",
   "metadata": {},
   "source": [
    "The number of email addresses is the number of valid_email_addresses plus the number of extra addresses"
   ]
  },
  {
   "cell_type": "code",
   "execution_count": 95,
   "id": "63d573ee",
   "metadata": {},
   "outputs": [
    {
     "data": {
      "text/plain": [
       "2215"
      ]
     },
     "execution_count": 95,
     "metadata": {},
     "output_type": "execute_result"
    }
   ],
   "source": [
    "len(valid_domain_names)+len(extra)"
   ]
  },
  {
   "cell_type": "markdown",
   "id": "7afb534e",
   "metadata": {},
   "source": [
    "Considering only NTAs with at least 5 listed businesses, what is the average total savings and the total jobs created for each NTA?\n",
    "Save your result for the previous question as a CSV file."
   ]
  },
  {
   "cell_type": "code",
   "execution_count": 99,
   "id": "8d65a54b",
   "metadata": {},
   "outputs": [],
   "source": [
    "data2=data.rename(columns = {'Neighborhood Tabulation Area (NTA) (2020)':'NTA'})"
   ]
  },
  {
   "cell_type": "code",
   "execution_count": 100,
   "id": "7dea014e",
   "metadata": {},
   "outputs": [
    {
     "data": {
      "text/html": [
       "<div>\n",
       "<style scoped>\n",
       "    .dataframe tbody tr th:only-of-type {\n",
       "        vertical-align: middle;\n",
       "    }\n",
       "\n",
       "    .dataframe tbody tr th {\n",
       "        vertical-align: top;\n",
       "    }\n",
       "\n",
       "    .dataframe thead th {\n",
       "        text-align: right;\n",
       "    }\n",
       "</style>\n",
       "<table border=\"1\" class=\"dataframe\">\n",
       "  <thead>\n",
       "    <tr style=\"text-align: right;\">\n",
       "      <th></th>\n",
       "      <th>Period</th>\n",
       "      <th>Company Name</th>\n",
       "      <th>company contact</th>\n",
       "      <th>company email</th>\n",
       "      <th>company phone</th>\n",
       "      <th>Address</th>\n",
       "      <th>City</th>\n",
       "      <th>State</th>\n",
       "      <th>Postcode</th>\n",
       "      <th>Industry</th>\n",
       "      <th>...</th>\n",
       "      <th>Electric Savings</th>\n",
       "      <th>Borough</th>\n",
       "      <th>Latitude</th>\n",
       "      <th>Longitude</th>\n",
       "      <th>Community Board</th>\n",
       "      <th>Council District</th>\n",
       "      <th>BIN</th>\n",
       "      <th>BBL</th>\n",
       "      <th>Census Tract (2020)</th>\n",
       "      <th>NTA</th>\n",
       "    </tr>\n",
       "  </thead>\n",
       "  <tbody>\n",
       "    <tr>\n",
       "      <th>0</th>\n",
       "      <td>FY2018</td>\n",
       "      <td>139 ACA Realty, Inc.</td>\n",
       "      <td>Eitan Chandally</td>\n",
       "      <td>barbara@dial7.com</td>\n",
       "      <td>7187076123</td>\n",
       "      <td>43-23 35th Street</td>\n",
       "      <td>Long Island City</td>\n",
       "      <td>NY</td>\n",
       "      <td>11101</td>\n",
       "      <td>Commercial</td>\n",
       "      <td>...</td>\n",
       "      <td>NaN</td>\n",
       "      <td>QUEENS</td>\n",
       "      <td>40.745706</td>\n",
       "      <td>-73.929565</td>\n",
       "      <td>402.0</td>\n",
       "      <td>26.0</td>\n",
       "      <td>4003160.0</td>\n",
       "      <td>4.002220e+09</td>\n",
       "      <td>17902.0</td>\n",
       "      <td>QN0202</td>\n",
       "    </tr>\n",
       "    <tr>\n",
       "      <th>1</th>\n",
       "      <td>FY2018</td>\n",
       "      <td>141 Lake Avenue Realty c/o JR Produce, Inc.</td>\n",
       "      <td>Josef Raz</td>\n",
       "      <td>jrproduce@gmail.com</td>\n",
       "      <td>7183708782</td>\n",
       "      <td>141 Lake Avenue</td>\n",
       "      <td>Staten Island</td>\n",
       "      <td>NY</td>\n",
       "      <td>10303</td>\n",
       "      <td>Wholesale/Warehouse/Distribution</td>\n",
       "      <td>...</td>\n",
       "      <td>NaN</td>\n",
       "      <td>STATEN IS</td>\n",
       "      <td>40.632845</td>\n",
       "      <td>-74.151048</td>\n",
       "      <td>501.0</td>\n",
       "      <td>49.0</td>\n",
       "      <td>5146740.0</td>\n",
       "      <td>5.011610e+09</td>\n",
       "      <td>239.0</td>\n",
       "      <td>SI0107</td>\n",
       "    </tr>\n",
       "    <tr>\n",
       "      <th>2</th>\n",
       "      <td>FY2018</td>\n",
       "      <td>14-10 123rd Street LLC</td>\n",
       "      <td>Danica/Ivan Drazic</td>\n",
       "      <td>ddrazic@atjelectrical.com</td>\n",
       "      <td>7183210117</td>\n",
       "      <td>14-10 123rd Street</td>\n",
       "      <td>College Point</td>\n",
       "      <td>NY</td>\n",
       "      <td>11356</td>\n",
       "      <td>Commercial</td>\n",
       "      <td>...</td>\n",
       "      <td>NaN</td>\n",
       "      <td>QUEENS</td>\n",
       "      <td>40.785144</td>\n",
       "      <td>-73.844833</td>\n",
       "      <td>407.0</td>\n",
       "      <td>19.0</td>\n",
       "      <td>4098344.0</td>\n",
       "      <td>4.040850e+09</td>\n",
       "      <td>929.0</td>\n",
       "      <td>QN0701</td>\n",
       "    </tr>\n",
       "    <tr>\n",
       "      <th>3</th>\n",
       "      <td>FY2018</td>\n",
       "      <td>183 Lorriane Street LLC</td>\n",
       "      <td>Tom Sapienza</td>\n",
       "      <td>tsapienza@KLCNY.com</td>\n",
       "      <td>2128405588</td>\n",
       "      <td>183 Lorraine Street</td>\n",
       "      <td>Brooklyn</td>\n",
       "      <td>NY</td>\n",
       "      <td>11231</td>\n",
       "      <td>Wholesale/Warehouse/Distribution</td>\n",
       "      <td>...</td>\n",
       "      <td>NaN</td>\n",
       "      <td>BROOKLYN</td>\n",
       "      <td>40.673106</td>\n",
       "      <td>-74.002300</td>\n",
       "      <td>306.0</td>\n",
       "      <td>38.0</td>\n",
       "      <td>3336622.0</td>\n",
       "      <td>3.005720e+09</td>\n",
       "      <td>5302.0</td>\n",
       "      <td>BK0601</td>\n",
       "    </tr>\n",
       "    <tr>\n",
       "      <th>4</th>\n",
       "      <td>FY2018</td>\n",
       "      <td>21st Century Optics, Inc.</td>\n",
       "      <td>Ralph Woythaler</td>\n",
       "      <td>rwoythaler@21st centuryoptics.com</td>\n",
       "      <td>7183922310</td>\n",
       "      <td>47-00 33rd Street</td>\n",
       "      <td>Lond Island City</td>\n",
       "      <td>NY</td>\n",
       "      <td>11101</td>\n",
       "      <td>Manufacturing</td>\n",
       "      <td>...</td>\n",
       "      <td>NaN</td>\n",
       "      <td>QUEENS</td>\n",
       "      <td>40.742386</td>\n",
       "      <td>-73.932148</td>\n",
       "      <td>402.0</td>\n",
       "      <td>26.0</td>\n",
       "      <td>4003447.0</td>\n",
       "      <td>4.002520e+09</td>\n",
       "      <td>19901.0</td>\n",
       "      <td>QN0202</td>\n",
       "    </tr>\n",
       "  </tbody>\n",
       "</table>\n",
       "<p>5 rows × 30 columns</p>\n",
       "</div>"
      ],
      "text/plain": [
       "   Period                                 Company Name     company contact  \\\n",
       "0  FY2018                         139 ACA Realty, Inc.     Eitan Chandally   \n",
       "1  FY2018  141 Lake Avenue Realty c/o JR Produce, Inc.           Josef Raz   \n",
       "2  FY2018                       14-10 123rd Street LLC  Danica/Ivan Drazic   \n",
       "3  FY2018                      183 Lorriane Street LLC        Tom Sapienza   \n",
       "4  FY2018                    21st Century Optics, Inc.     Ralph Woythaler   \n",
       "\n",
       "                       company email company phone              Address  \\\n",
       "0                  barbara@dial7.com    7187076123    43-23 35th Street   \n",
       "1                jrproduce@gmail.com    7183708782      141 Lake Avenue   \n",
       "2          ddrazic@atjelectrical.com    7183210117   14-10 123rd Street   \n",
       "3                tsapienza@KLCNY.com    2128405588  183 Lorraine Street   \n",
       "4  rwoythaler@21st centuryoptics.com    7183922310    47-00 33rd Street   \n",
       "\n",
       "               City State  Postcode                          Industry  ...  \\\n",
       "0  Long Island City    NY     11101                        Commercial  ...   \n",
       "1     Staten Island    NY     10303  Wholesale/Warehouse/Distribution  ...   \n",
       "2     College Point    NY     11356                        Commercial  ...   \n",
       "3          Brooklyn    NY     11231  Wholesale/Warehouse/Distribution  ...   \n",
       "4  Lond Island City    NY     11101                     Manufacturing  ...   \n",
       "\n",
       "  Electric Savings    Borough   Latitude  Longitude  Community Board  \\\n",
       "0              NaN     QUEENS  40.745706 -73.929565            402.0   \n",
       "1              NaN  STATEN IS  40.632845 -74.151048            501.0   \n",
       "2              NaN     QUEENS  40.785144 -73.844833            407.0   \n",
       "3              NaN   BROOKLYN  40.673106 -74.002300            306.0   \n",
       "4              NaN     QUEENS  40.742386 -73.932148            402.0   \n",
       "\n",
       "  Council District        BIN           BBL  Census Tract (2020)     NTA  \n",
       "0             26.0  4003160.0  4.002220e+09              17902.0  QN0202  \n",
       "1             49.0  5146740.0  5.011610e+09                239.0  SI0107  \n",
       "2             19.0  4098344.0  4.040850e+09                929.0  QN0701  \n",
       "3             38.0  3336622.0  3.005720e+09               5302.0  BK0601  \n",
       "4             26.0  4003447.0  4.002520e+09              19901.0  QN0202  \n",
       "\n",
       "[5 rows x 30 columns]"
      ]
     },
     "execution_count": 100,
     "metadata": {},
     "output_type": "execute_result"
    }
   ],
   "source": [
    "data2.head()"
   ]
  },
  {
   "cell_type": "code",
   "execution_count": 114,
   "id": "c1b9ddb8",
   "metadata": {},
   "outputs": [
    {
     "data": {
      "text/plain": [
       "NTA\n",
       "BK0101    [ACME SMOKED FISH CORP., CINEMA WORLD PRODUCTS...\n",
       "BK0102    [A TO Z KOSHER MEAT PRODUCT CO., Amazon Corpor...\n",
       "BK0103               [Color Tex, Inc., Shloms Heimish Corp]\n",
       "BK0104    [A TO Z BOHEMIAN GLASS, INC., ANTHONY DALO WOO...\n",
       "BK0201    [Blumberg Excelsior, Inc., FOREST CITY PIERREP...\n",
       "Name: Company Name, dtype: object"
      ]
     },
     "execution_count": 114,
     "metadata": {},
     "output_type": "execute_result"
    }
   ],
   "source": [
    "unique_companies_per_NTA = data2.groupby('NTA')['Company Name'].unique()\n",
    "unique_companies_per_NTA.head()"
   ]
  },
  {
   "cell_type": "code",
   "execution_count": 111,
   "id": "a2797149",
   "metadata": {},
   "outputs": [],
   "source": [
    "NTAs_with_5_companies = [len(list)>4 for list in unique_companies_per_NTA]"
   ]
  },
  {
   "cell_type": "code",
   "execution_count": 113,
   "id": "391de5c6",
   "metadata": {},
   "outputs": [
    {
     "data": {
      "text/plain": [
       "[True, False, False, True, False]"
      ]
     },
     "execution_count": 113,
     "metadata": {},
     "output_type": "execute_result"
    }
   ],
   "source": [
    "NTAs_with_5_companies[:5]"
   ]
  },
  {
   "cell_type": "code",
   "execution_count": 147,
   "id": "43a73b49",
   "metadata": {},
   "outputs": [
    {
     "data": {
      "text/plain": [
       "array(['QN0202', 'SI0107', 'QN0701', 'BK0601', 'MN0501', nan, 'BK0502',\n",
       "       'BK0503', 'QN0101', 'QN0201', 'QN0503', 'BK0104', 'BK0102',\n",
       "       'QN1002', 'BK0701', 'QN0602', 'QN0203', 'BK0101', 'BX0201',\n",
       "       'BK0401', 'QN0103', 'MN0902', 'BK0202', 'BK0702', 'BX1102',\n",
       "       'BK0802', 'QN0105', 'BK1701', 'QN1201', 'QN1306', 'QN0402',\n",
       "       'BX0101', 'QN0501', 'QN1204', 'BK1202', 'QN0161', 'BK1302',\n",
       "       'QN0502', 'QN0902', 'BK0201', 'QN0261', 'QN0904', 'BX0302',\n",
       "       'BK0103', 'BK1602', 'BK0301', 'QN0707', 'QN1303', 'QN1205',\n",
       "       'MN0602', 'QN1305', 'BK0261', 'BK1101', 'MN1102', 'BK1702',\n",
       "       'SI0305', 'BK1803', 'QN0104', 'MN0102', 'BX1203', 'MN0401',\n",
       "       'BK0203', 'QN0704', 'BX1161', 'BK0204', 'MN1201', 'BX1001',\n",
       "       'QN1202', 'BK1601', 'BX0301', 'QN1402', 'MN1202', 'BX0703',\n",
       "       'SI0204', 'BX1202', 'BK1802', 'QN1102', 'MN1001', 'QN1203',\n",
       "       'BK1704', 'BK1801', 'BK1402', 'SI0106', 'MN0303', 'MN0502',\n",
       "       'QN0702', 'MN0101', 'BK1403', 'BX0602', 'MN1002', 'MN0603',\n",
       "       'BX0901', 'BK0504', 'BK1204', 'MN0201', 'SI0303', 'BX0403',\n",
       "       'QN1103'], dtype=object)"
      ]
     },
     "execution_count": 147,
     "metadata": {},
     "output_type": "execute_result"
    }
   ],
   "source": [
    "NTAs = data2['NTA'].unique()\n",
    "NTAs"
   ]
  },
  {
   "cell_type": "code",
   "execution_count": 120,
   "id": "4f065821",
   "metadata": {},
   "outputs": [
    {
     "data": {
      "text/html": [
       "<div>\n",
       "<style scoped>\n",
       "    .dataframe tbody tr th:only-of-type {\n",
       "        vertical-align: middle;\n",
       "    }\n",
       "\n",
       "    .dataframe tbody tr th {\n",
       "        vertical-align: top;\n",
       "    }\n",
       "\n",
       "    .dataframe thead th {\n",
       "        text-align: right;\n",
       "    }\n",
       "</style>\n",
       "<table border=\"1\" class=\"dataframe\">\n",
       "  <thead>\n",
       "    <tr style=\"text-align: right;\">\n",
       "      <th></th>\n",
       "      <th>Period</th>\n",
       "      <th>Company Name</th>\n",
       "      <th>company contact</th>\n",
       "      <th>company email</th>\n",
       "      <th>company phone</th>\n",
       "      <th>Address</th>\n",
       "      <th>City</th>\n",
       "      <th>State</th>\n",
       "      <th>Postcode</th>\n",
       "      <th>Industry</th>\n",
       "      <th>...</th>\n",
       "      <th>Electric Savings</th>\n",
       "      <th>Borough</th>\n",
       "      <th>Latitude</th>\n",
       "      <th>Longitude</th>\n",
       "      <th>Community Board</th>\n",
       "      <th>Council District</th>\n",
       "      <th>BIN</th>\n",
       "      <th>BBL</th>\n",
       "      <th>Census Tract (2020)</th>\n",
       "      <th>NTA</th>\n",
       "    </tr>\n",
       "  </thead>\n",
       "  <tbody>\n",
       "    <tr>\n",
       "      <th>4</th>\n",
       "      <td>FY2018</td>\n",
       "      <td>21st Century Optics, Inc.</td>\n",
       "      <td>Ralph Woythaler</td>\n",
       "      <td>rwoythaler@21st centuryoptics.com</td>\n",
       "      <td>7183922310</td>\n",
       "      <td>47-00 33rd Street</td>\n",
       "      <td>Lond Island City</td>\n",
       "      <td>NY</td>\n",
       "      <td>11101</td>\n",
       "      <td>Manufacturing</td>\n",
       "      <td>...</td>\n",
       "      <td>NaN</td>\n",
       "      <td>QUEENS</td>\n",
       "      <td>40.742386</td>\n",
       "      <td>-73.932148</td>\n",
       "      <td>402.0</td>\n",
       "      <td>26.0</td>\n",
       "      <td>4003447.0</td>\n",
       "      <td>4.002520e+09</td>\n",
       "      <td>19901.0</td>\n",
       "      <td>QN0202</td>\n",
       "    </tr>\n",
       "    <tr>\n",
       "      <th>5</th>\n",
       "      <td>FY2018</td>\n",
       "      <td>221 WEST 26TH STREET CORP.</td>\n",
       "      <td>Eric Duke</td>\n",
       "      <td>eduke@amvchelsea.com</td>\n",
       "      <td>2127271234</td>\n",
       "      <td>221 WEST 26TH STREET</td>\n",
       "      <td>New York</td>\n",
       "      <td>NY</td>\n",
       "      <td>10001</td>\n",
       "      <td>Manufacturing</td>\n",
       "      <td>...</td>\n",
       "      <td>NaN</td>\n",
       "      <td>MANHATTAN</td>\n",
       "      <td>40.746479</td>\n",
       "      <td>-73.995359</td>\n",
       "      <td>105.0</td>\n",
       "      <td>3.0</td>\n",
       "      <td>1014235.0</td>\n",
       "      <td>1.007760e+09</td>\n",
       "      <td>95.0</td>\n",
       "      <td>MN0501</td>\n",
       "    </tr>\n",
       "    <tr>\n",
       "      <th>6</th>\n",
       "      <td>FY2018</td>\n",
       "      <td>24-60 47TH STREET, LLC</td>\n",
       "      <td>CHRISTINE MOONEY</td>\n",
       "      <td>NaN</td>\n",
       "      <td>2128222236</td>\n",
       "      <td>24.60 47TH STREET</td>\n",
       "      <td>Queens</td>\n",
       "      <td>NY</td>\n",
       "      <td>11103</td>\n",
       "      <td>Manufacturing</td>\n",
       "      <td>...</td>\n",
       "      <td>NaN</td>\n",
       "      <td>NaN</td>\n",
       "      <td>NaN</td>\n",
       "      <td>NaN</td>\n",
       "      <td>NaN</td>\n",
       "      <td>NaN</td>\n",
       "      <td>NaN</td>\n",
       "      <td>NaN</td>\n",
       "      <td>NaN</td>\n",
       "      <td>NaN</td>\n",
       "    </tr>\n",
       "    <tr>\n",
       "      <th>7</th>\n",
       "      <td>FY2018</td>\n",
       "      <td>2840 Atlantic Avenue Realty Corp</td>\n",
       "      <td>Donald Marchese</td>\n",
       "      <td>Edgeinc@hotmail.com</td>\n",
       "      <td>7186477500</td>\n",
       "      <td>2840 Atlantic Avenue</td>\n",
       "      <td>Brooklyn</td>\n",
       "      <td>NY</td>\n",
       "      <td>11207</td>\n",
       "      <td>Commercial</td>\n",
       "      <td>...</td>\n",
       "      <td>NaN</td>\n",
       "      <td>BROOKLYN</td>\n",
       "      <td>40.676789</td>\n",
       "      <td>-73.889346</td>\n",
       "      <td>305.0</td>\n",
       "      <td>37.0</td>\n",
       "      <td>3428817.0</td>\n",
       "      <td>3.039640e+09</td>\n",
       "      <td>1198.0</td>\n",
       "      <td>BK0502</td>\n",
       "    </tr>\n",
       "  </tbody>\n",
       "</table>\n",
       "<p>4 rows × 30 columns</p>\n",
       "</div>"
      ],
      "text/plain": [
       "   Period                      Company Name   company contact  \\\n",
       "4  FY2018         21st Century Optics, Inc.   Ralph Woythaler   \n",
       "5  FY2018        221 WEST 26TH STREET CORP.         Eric Duke   \n",
       "6  FY2018            24-60 47TH STREET, LLC  CHRISTINE MOONEY   \n",
       "7  FY2018  2840 Atlantic Avenue Realty Corp   Donald Marchese   \n",
       "\n",
       "                       company email company phone               Address  \\\n",
       "4  rwoythaler@21st centuryoptics.com    7183922310     47-00 33rd Street   \n",
       "5               eduke@amvchelsea.com    2127271234  221 WEST 26TH STREET   \n",
       "6                                NaN    2128222236     24.60 47TH STREET   \n",
       "7                Edgeinc@hotmail.com    7186477500  2840 Atlantic Avenue   \n",
       "\n",
       "               City State  Postcode       Industry  ... Electric Savings  \\\n",
       "4  Lond Island City    NY     11101  Manufacturing  ...              NaN   \n",
       "5          New York    NY     10001  Manufacturing  ...              NaN   \n",
       "6            Queens    NY     11103  Manufacturing  ...              NaN   \n",
       "7          Brooklyn    NY     11207     Commercial  ...              NaN   \n",
       "\n",
       "     Borough   Latitude  Longitude  Community Board Council District  \\\n",
       "4     QUEENS  40.742386 -73.932148            402.0             26.0   \n",
       "5  MANHATTAN  40.746479 -73.995359            105.0              3.0   \n",
       "6        NaN        NaN        NaN              NaN              NaN   \n",
       "7   BROOKLYN  40.676789 -73.889346            305.0             37.0   \n",
       "\n",
       "         BIN           BBL  Census Tract (2020)     NTA  \n",
       "4  4003447.0  4.002520e+09              19901.0  QN0202  \n",
       "5  1014235.0  1.007760e+09                 95.0  MN0501  \n",
       "6        NaN           NaN                  NaN     NaN  \n",
       "7  3428817.0  3.039640e+09               1198.0  BK0502  \n",
       "\n",
       "[4 rows x 30 columns]"
      ]
     },
     "execution_count": 120,
     "metadata": {},
     "output_type": "execute_result"
    }
   ],
   "source": [
    "data2.loc[4:7,]"
   ]
  },
  {
   "cell_type": "code",
   "execution_count": 125,
   "id": "add11aae",
   "metadata": {},
   "outputs": [
    {
     "data": {
      "text/html": [
       "<div>\n",
       "<style scoped>\n",
       "    .dataframe tbody tr th:only-of-type {\n",
       "        vertical-align: middle;\n",
       "    }\n",
       "\n",
       "    .dataframe tbody tr th {\n",
       "        vertical-align: top;\n",
       "    }\n",
       "\n",
       "    .dataframe thead th {\n",
       "        text-align: right;\n",
       "    }\n",
       "</style>\n",
       "<table border=\"1\" class=\"dataframe\">\n",
       "  <thead>\n",
       "    <tr style=\"text-align: right;\">\n",
       "      <th></th>\n",
       "      <th>Period</th>\n",
       "      <th>Company Name</th>\n",
       "      <th>company contact</th>\n",
       "      <th>company email</th>\n",
       "      <th>company phone</th>\n",
       "      <th>Address</th>\n",
       "      <th>City</th>\n",
       "      <th>State</th>\n",
       "      <th>Postcode</th>\n",
       "      <th>Industry</th>\n",
       "      <th>...</th>\n",
       "      <th>Electric Savings</th>\n",
       "      <th>Borough</th>\n",
       "      <th>Latitude</th>\n",
       "      <th>Longitude</th>\n",
       "      <th>Community Board</th>\n",
       "      <th>Council District</th>\n",
       "      <th>BIN</th>\n",
       "      <th>BBL</th>\n",
       "      <th>Census Tract (2020)</th>\n",
       "      <th>NTA</th>\n",
       "    </tr>\n",
       "  </thead>\n",
       "  <tbody>\n",
       "    <tr>\n",
       "      <th>6</th>\n",
       "      <td>FY2018</td>\n",
       "      <td>24-60 47TH STREET, LLC</td>\n",
       "      <td>CHRISTINE MOONEY</td>\n",
       "      <td>NaN</td>\n",
       "      <td>2128222236</td>\n",
       "      <td>24.60 47TH STREET</td>\n",
       "      <td>Queens</td>\n",
       "      <td>NY</td>\n",
       "      <td>11103</td>\n",
       "      <td>Manufacturing</td>\n",
       "      <td>...</td>\n",
       "      <td>NaN</td>\n",
       "      <td>NaN</td>\n",
       "      <td>NaN</td>\n",
       "      <td>NaN</td>\n",
       "      <td>NaN</td>\n",
       "      <td>NaN</td>\n",
       "      <td>NaN</td>\n",
       "      <td>NaN</td>\n",
       "      <td>NaN</td>\n",
       "      <td>NaN</td>\n",
       "    </tr>\n",
       "  </tbody>\n",
       "</table>\n",
       "<p>1 rows × 30 columns</p>\n",
       "</div>"
      ],
      "text/plain": [
       "   Period            Company Name   company contact company email  \\\n",
       "6  FY2018  24-60 47TH STREET, LLC  CHRISTINE MOONEY           NaN   \n",
       "\n",
       "  company phone            Address    City State  Postcode       Industry  \\\n",
       "6    2128222236  24.60 47TH STREET  Queens    NY     11103  Manufacturing   \n",
       "\n",
       "   ... Electric Savings Borough  Latitude  Longitude  Community Board  \\\n",
       "6  ...              NaN     NaN       NaN        NaN              NaN   \n",
       "\n",
       "  Council District  BIN  BBL  Census Tract (2020)  NTA  \n",
       "6              NaN  NaN  NaN                  NaN  NaN  \n",
       "\n",
       "[1 rows x 30 columns]"
      ]
     },
     "execution_count": 125,
     "metadata": {},
     "output_type": "execute_result"
    }
   ],
   "source": [
    "data2.loc[data2.loc[:,'Company Name']=='24-60 47TH STREET, LLC',:]"
   ]
  },
  {
   "cell_type": "code",
   "execution_count": 129,
   "id": "2ccbfd8a",
   "metadata": {},
   "outputs": [
    {
     "data": {
      "text/plain": [
       "97"
      ]
     },
     "execution_count": 129,
     "metadata": {},
     "output_type": "execute_result"
    }
   ],
   "source": [
    "len(unique_companies_per_NTA)"
   ]
  },
  {
   "cell_type": "code",
   "execution_count": 155,
   "id": "469dc671",
   "metadata": {},
   "outputs": [
    {
     "data": {
      "text/plain": [
       "array(['QN0202', 'SI0107', 'QN0701', 'BK0601', 'MN0501', 'BK0502',\n",
       "       'BK0503', 'QN0101', 'QN0201', 'QN0503', 'BK0104', 'BK0102',\n",
       "       'QN1002', 'BK0701', 'QN0602', 'QN0203', 'BK0101', 'BX0201',\n",
       "       'BK0401', 'QN0103', 'MN0902', 'BK0202', 'BK0702', 'BX1102',\n",
       "       'BK0802', 'QN0105', 'BK1701', 'QN1201', 'QN1306', 'QN0402',\n",
       "       'BX0101', 'QN0501', 'QN1204', 'BK1202', 'QN0161', 'BK1302',\n",
       "       'QN0502', 'QN0902', 'BK0201', 'QN0261', 'QN0904', 'BX0302',\n",
       "       'BK0103', 'BK1602', 'BK0301', 'QN0707', 'QN1303', 'QN1205',\n",
       "       'MN0602', 'QN1305', 'BK0261', 'BK1101', 'MN1102', 'BK1702',\n",
       "       'SI0305', 'BK1803', 'QN0104', 'MN0102', 'BX1203', 'MN0401',\n",
       "       'BK0203', 'QN0704', 'BX1161', 'BK0204', 'MN1201', 'BX1001',\n",
       "       'QN1202', 'BK1601', 'BX0301', 'QN1402', 'MN1202', 'BX0703',\n",
       "       'SI0204', 'BX1202', 'BK1802', 'QN1102', 'MN1001', 'QN1203',\n",
       "       'BK1704', 'BK1801', 'BK1402', 'SI0106', 'MN0303', 'MN0502',\n",
       "       'QN0702', 'MN0101', 'BK1403', 'BX0602', 'MN1002', 'MN0603',\n",
       "       'BX0901', 'BK0504', 'BK1204', 'MN0201', 'SI0303', 'BX0403',\n",
       "       'QN1103'], dtype=object)"
      ]
     },
     "execution_count": 155,
     "metadata": {},
     "output_type": "execute_result"
    }
   ],
   "source": [
    "NTAs = data2[data2['NTA'].notna()]['NTA'].unique()\n",
    "NTAs"
   ]
  },
  {
   "cell_type": "code",
   "execution_count": 152,
   "id": "496833d1",
   "metadata": {},
   "outputs": [
    {
     "data": {
      "text/plain": [
       "97"
      ]
     },
     "execution_count": 152,
     "metadata": {},
     "output_type": "execute_result"
    }
   ],
   "source": [
    "len(NTAs)"
   ]
  },
  {
   "cell_type": "code",
   "execution_count": 156,
   "id": "ec3a889f",
   "metadata": {},
   "outputs": [],
   "source": [
    "NTAs.sort()"
   ]
  },
  {
   "cell_type": "code",
   "execution_count": 157,
   "id": "05fc1287",
   "metadata": {},
   "outputs": [
    {
     "data": {
      "text/plain": [
       "array(['BK0101', 'BK0102', 'BK0103', 'BK0104', 'BK0201', 'BK0202',\n",
       "       'BK0203', 'BK0204', 'BK0261', 'BK0301', 'BK0401', 'BK0502',\n",
       "       'BK0503', 'BK0504', 'BK0601', 'BK0701', 'BK0702', 'BK0802',\n",
       "       'BK1101', 'BK1202', 'BK1204', 'BK1302', 'BK1402', 'BK1403',\n",
       "       'BK1601', 'BK1602', 'BK1701', 'BK1702', 'BK1704', 'BK1801',\n",
       "       'BK1802', 'BK1803', 'BX0101', 'BX0201', 'BX0301', 'BX0302',\n",
       "       'BX0403', 'BX0602', 'BX0703', 'BX0901', 'BX1001', 'BX1102',\n",
       "       'BX1161', 'BX1202', 'BX1203', 'MN0101', 'MN0102', 'MN0201',\n",
       "       'MN0303', 'MN0401', 'MN0501', 'MN0502', 'MN0602', 'MN0603',\n",
       "       'MN0902', 'MN1001', 'MN1002', 'MN1102', 'MN1201', 'MN1202',\n",
       "       'QN0101', 'QN0103', 'QN0104', 'QN0105', 'QN0161', 'QN0201',\n",
       "       'QN0202', 'QN0203', 'QN0261', 'QN0402', 'QN0501', 'QN0502',\n",
       "       'QN0503', 'QN0602', 'QN0701', 'QN0702', 'QN0704', 'QN0707',\n",
       "       'QN0902', 'QN0904', 'QN1002', 'QN1102', 'QN1103', 'QN1201',\n",
       "       'QN1202', 'QN1203', 'QN1204', 'QN1205', 'QN1303', 'QN1305',\n",
       "       'QN1306', 'QN1402', 'SI0106', 'SI0107', 'SI0204', 'SI0303',\n",
       "       'SI0305'], dtype=object)"
      ]
     },
     "execution_count": 157,
     "metadata": {},
     "output_type": "execute_result"
    }
   ],
   "source": [
    "NTAs"
   ]
  },
  {
   "cell_type": "code",
   "execution_count": 162,
   "id": "a392fe6d",
   "metadata": {},
   "outputs": [
    {
     "data": {
      "text/plain": [
       "array(['BK0101', 'BK0104', 'BK0202', 'BK0261', 'BK0301', 'BK0502',\n",
       "       'BK0503', 'BK0601', 'BK0702', 'BK0802', 'BK1602', 'BX0101',\n",
       "       'BX0201', 'BX1001', 'MN0101', 'MN0102', 'MN0902', 'MN1102',\n",
       "       'QN0101', 'QN0103', 'QN0104', 'QN0105', 'QN0161', 'QN0201',\n",
       "       'QN0202', 'QN0203', 'QN0501', 'QN0502', 'QN0701', 'QN0904',\n",
       "       'QN1306'], dtype=object)"
      ]
     },
     "execution_count": 162,
     "metadata": {},
     "output_type": "execute_result"
    }
   ],
   "source": [
    "NTAs5 = NTAs[NTAs_with_5_companies]\n",
    "NTAs5"
   ]
  },
  {
   "cell_type": "code",
   "execution_count": null,
   "id": "bc8a818e",
   "metadata": {},
   "outputs": [],
   "source": []
  },
  {
   "cell_type": "code",
   "execution_count": 165,
   "id": "ccda0094",
   "metadata": {},
   "outputs": [],
   "source": [
    "NTAs5set = set(NTAs5)"
   ]
  },
  {
   "cell_type": "code",
   "execution_count": 166,
   "id": "e5f17389",
   "metadata": {},
   "outputs": [
    {
     "ename": "TypeError",
     "evalue": "unhashable type: 'Series'",
     "output_type": "error",
     "traceback": [
      "\u001b[1;31m---------------------------------------------------------------------------\u001b[0m",
      "\u001b[1;31mTypeError\u001b[0m                                 Traceback (most recent call last)",
      "Cell \u001b[1;32mIn[166], line 1\u001b[0m\n\u001b[1;32m----> 1\u001b[0m data3 \u001b[38;5;241m=\u001b[39m data2[data2[\u001b[38;5;124m'\u001b[39m\u001b[38;5;124mNTA\u001b[39m\u001b[38;5;124m'\u001b[39m] \u001b[38;5;129;01min\u001b[39;00m NTAs5set]\n",
      "\u001b[1;31mTypeError\u001b[0m: unhashable type: 'Series'"
     ]
    }
   ],
   "source": [
    "data3 = data2[data2['NTA'] in NTAs5set]"
   ]
  },
  {
   "cell_type": "code",
   "execution_count": 171,
   "id": "76ee6280",
   "metadata": {},
   "outputs": [
    {
     "data": {
      "text/html": [
       "<div>\n",
       "<style scoped>\n",
       "    .dataframe tbody tr th:only-of-type {\n",
       "        vertical-align: middle;\n",
       "    }\n",
       "\n",
       "    .dataframe tbody tr th {\n",
       "        vertical-align: top;\n",
       "    }\n",
       "\n",
       "    .dataframe thead tr th {\n",
       "        text-align: left;\n",
       "    }\n",
       "\n",
       "    .dataframe thead tr:last-of-type th {\n",
       "        text-align: right;\n",
       "    }\n",
       "</style>\n",
       "<table border=\"1\" class=\"dataframe\">\n",
       "  <thead>\n",
       "    <tr>\n",
       "      <th></th>\n",
       "      <th>Total Savings</th>\n",
       "      <th>Job created</th>\n",
       "    </tr>\n",
       "    <tr>\n",
       "      <th></th>\n",
       "      <th>mean</th>\n",
       "      <th>sum</th>\n",
       "    </tr>\n",
       "    <tr>\n",
       "      <th>NTA</th>\n",
       "      <th></th>\n",
       "      <th></th>\n",
       "    </tr>\n",
       "  </thead>\n",
       "  <tbody>\n",
       "    <tr>\n",
       "      <th>BK0101</th>\n",
       "      <td>10367.961795</td>\n",
       "      <td>16.0</td>\n",
       "    </tr>\n",
       "    <tr>\n",
       "      <th>BK0102</th>\n",
       "      <td>12599.753333</td>\n",
       "      <td>15.0</td>\n",
       "    </tr>\n",
       "    <tr>\n",
       "      <th>BK0103</th>\n",
       "      <td>19150.922857</td>\n",
       "      <td>0.0</td>\n",
       "    </tr>\n",
       "    <tr>\n",
       "      <th>BK0104</th>\n",
       "      <td>21158.253077</td>\n",
       "      <td>187.0</td>\n",
       "    </tr>\n",
       "    <tr>\n",
       "      <th>BK0201</th>\n",
       "      <td>15102.036364</td>\n",
       "      <td>0.0</td>\n",
       "    </tr>\n",
       "    <tr>\n",
       "      <th>...</th>\n",
       "      <td>...</td>\n",
       "      <td>...</td>\n",
       "    </tr>\n",
       "    <tr>\n",
       "      <th>SI0106</th>\n",
       "      <td>6338.252857</td>\n",
       "      <td>10.0</td>\n",
       "    </tr>\n",
       "    <tr>\n",
       "      <th>SI0107</th>\n",
       "      <td>113610.160000</td>\n",
       "      <td>300.0</td>\n",
       "    </tr>\n",
       "    <tr>\n",
       "      <th>SI0204</th>\n",
       "      <td>605464.839167</td>\n",
       "      <td>0.0</td>\n",
       "    </tr>\n",
       "    <tr>\n",
       "      <th>SI0303</th>\n",
       "      <td>7297.680000</td>\n",
       "      <td>0.0</td>\n",
       "    </tr>\n",
       "    <tr>\n",
       "      <th>SI0305</th>\n",
       "      <td>899.670000</td>\n",
       "      <td>16.0</td>\n",
       "    </tr>\n",
       "  </tbody>\n",
       "</table>\n",
       "<p>97 rows × 2 columns</p>\n",
       "</div>"
      ],
      "text/plain": [
       "        Total Savings Job created\n",
       "                 mean         sum\n",
       "NTA                              \n",
       "BK0101   10367.961795        16.0\n",
       "BK0102   12599.753333        15.0\n",
       "BK0103   19150.922857         0.0\n",
       "BK0104   21158.253077       187.0\n",
       "BK0201   15102.036364         0.0\n",
       "...               ...         ...\n",
       "SI0106    6338.252857        10.0\n",
       "SI0107  113610.160000       300.0\n",
       "SI0204  605464.839167         0.0\n",
       "SI0303    7297.680000         0.0\n",
       "SI0305     899.670000        16.0\n",
       "\n",
       "[97 rows x 2 columns]"
      ]
     },
     "execution_count": 171,
     "metadata": {},
     "output_type": "execute_result"
    }
   ],
   "source": [
    "summary_all_NTA=data2.groupby('NTA').agg(\n",
    "    {\n",
    "        \"Total Savings\": ['mean'],\n",
    "        \"Job created\": ['sum'],\n",
    "        \n",
    "    }\n",
    "    )\n",
    "summary_all_NTA"
   ]
  },
  {
   "cell_type": "code",
   "execution_count": 172,
   "id": "cdcbd47c",
   "metadata": {},
   "outputs": [
    {
     "data": {
      "text/html": [
       "<div>\n",
       "<style scoped>\n",
       "    .dataframe tbody tr th:only-of-type {\n",
       "        vertical-align: middle;\n",
       "    }\n",
       "\n",
       "    .dataframe tbody tr th {\n",
       "        vertical-align: top;\n",
       "    }\n",
       "\n",
       "    .dataframe thead tr th {\n",
       "        text-align: left;\n",
       "    }\n",
       "\n",
       "    .dataframe thead tr:last-of-type th {\n",
       "        text-align: right;\n",
       "    }\n",
       "</style>\n",
       "<table border=\"1\" class=\"dataframe\">\n",
       "  <thead>\n",
       "    <tr>\n",
       "      <th></th>\n",
       "      <th>Total Savings</th>\n",
       "      <th>Job created</th>\n",
       "    </tr>\n",
       "    <tr>\n",
       "      <th></th>\n",
       "      <th>mean</th>\n",
       "      <th>sum</th>\n",
       "    </tr>\n",
       "    <tr>\n",
       "      <th>NTA</th>\n",
       "      <th></th>\n",
       "      <th></th>\n",
       "    </tr>\n",
       "  </thead>\n",
       "  <tbody>\n",
       "    <tr>\n",
       "      <th>BK0101</th>\n",
       "      <td>10367.961795</td>\n",
       "      <td>16.0</td>\n",
       "    </tr>\n",
       "    <tr>\n",
       "      <th>BK0104</th>\n",
       "      <td>21158.253077</td>\n",
       "      <td>187.0</td>\n",
       "    </tr>\n",
       "    <tr>\n",
       "      <th>BK0202</th>\n",
       "      <td>74011.255897</td>\n",
       "      <td>0.0</td>\n",
       "    </tr>\n",
       "    <tr>\n",
       "      <th>BK0261</th>\n",
       "      <td>12876.958500</td>\n",
       "      <td>0.0</td>\n",
       "    </tr>\n",
       "    <tr>\n",
       "      <th>BK0301</th>\n",
       "      <td>57934.141667</td>\n",
       "      <td>8.0</td>\n",
       "    </tr>\n",
       "    <tr>\n",
       "      <th>BK0502</th>\n",
       "      <td>13810.223333</td>\n",
       "      <td>0.0</td>\n",
       "    </tr>\n",
       "    <tr>\n",
       "      <th>BK0503</th>\n",
       "      <td>62669.078889</td>\n",
       "      <td>415.0</td>\n",
       "    </tr>\n",
       "    <tr>\n",
       "      <th>BK0601</th>\n",
       "      <td>25358.179524</td>\n",
       "      <td>97.0</td>\n",
       "    </tr>\n",
       "    <tr>\n",
       "      <th>BK0702</th>\n",
       "      <td>17596.188571</td>\n",
       "      <td>92.0</td>\n",
       "    </tr>\n",
       "    <tr>\n",
       "      <th>BK0802</th>\n",
       "      <td>3620.966591</td>\n",
       "      <td>0.0</td>\n",
       "    </tr>\n",
       "    <tr>\n",
       "      <th>BK1602</th>\n",
       "      <td>-3744.104444</td>\n",
       "      <td>55.0</td>\n",
       "    </tr>\n",
       "    <tr>\n",
       "      <th>BX0101</th>\n",
       "      <td>17226.212931</td>\n",
       "      <td>106.0</td>\n",
       "    </tr>\n",
       "    <tr>\n",
       "      <th>BX0201</th>\n",
       "      <td>21078.529496</td>\n",
       "      <td>133.0</td>\n",
       "    </tr>\n",
       "    <tr>\n",
       "      <th>BX1001</th>\n",
       "      <td>10510.395882</td>\n",
       "      <td>20.0</td>\n",
       "    </tr>\n",
       "    <tr>\n",
       "      <th>MN0101</th>\n",
       "      <td>431063.858667</td>\n",
       "      <td>0.0</td>\n",
       "    </tr>\n",
       "    <tr>\n",
       "      <th>MN0102</th>\n",
       "      <td>47655.748000</td>\n",
       "      <td>4.0</td>\n",
       "    </tr>\n",
       "    <tr>\n",
       "      <th>MN0902</th>\n",
       "      <td>2398.261224</td>\n",
       "      <td>10.0</td>\n",
       "    </tr>\n",
       "    <tr>\n",
       "      <th>MN1102</th>\n",
       "      <td>8909.400625</td>\n",
       "      <td>8.0</td>\n",
       "    </tr>\n",
       "    <tr>\n",
       "      <th>QN0101</th>\n",
       "      <td>14292.983784</td>\n",
       "      <td>100.0</td>\n",
       "    </tr>\n",
       "    <tr>\n",
       "      <th>QN0103</th>\n",
       "      <td>14084.895625</td>\n",
       "      <td>2.0</td>\n",
       "    </tr>\n",
       "    <tr>\n",
       "      <th>QN0104</th>\n",
       "      <td>25843.476364</td>\n",
       "      <td>23.0</td>\n",
       "    </tr>\n",
       "    <tr>\n",
       "      <th>QN0105</th>\n",
       "      <td>59201.958046</td>\n",
       "      <td>105.0</td>\n",
       "    </tr>\n",
       "    <tr>\n",
       "      <th>QN0161</th>\n",
       "      <td>2489.384000</td>\n",
       "      <td>0.0</td>\n",
       "    </tr>\n",
       "    <tr>\n",
       "      <th>QN0201</th>\n",
       "      <td>27410.526875</td>\n",
       "      <td>78.0</td>\n",
       "    </tr>\n",
       "    <tr>\n",
       "      <th>QN0202</th>\n",
       "      <td>13586.924023</td>\n",
       "      <td>125.0</td>\n",
       "    </tr>\n",
       "    <tr>\n",
       "      <th>QN0203</th>\n",
       "      <td>6549.470909</td>\n",
       "      <td>10.0</td>\n",
       "    </tr>\n",
       "    <tr>\n",
       "      <th>QN0501</th>\n",
       "      <td>13278.137101</td>\n",
       "      <td>195.0</td>\n",
       "    </tr>\n",
       "    <tr>\n",
       "      <th>QN0502</th>\n",
       "      <td>11908.803529</td>\n",
       "      <td>3.0</td>\n",
       "    </tr>\n",
       "    <tr>\n",
       "      <th>QN0701</th>\n",
       "      <td>33604.169773</td>\n",
       "      <td>120.0</td>\n",
       "    </tr>\n",
       "    <tr>\n",
       "      <th>QN0904</th>\n",
       "      <td>1739.515833</td>\n",
       "      <td>0.0</td>\n",
       "    </tr>\n",
       "    <tr>\n",
       "      <th>QN1306</th>\n",
       "      <td>21160.505200</td>\n",
       "      <td>0.0</td>\n",
       "    </tr>\n",
       "  </tbody>\n",
       "</table>\n",
       "</div>"
      ],
      "text/plain": [
       "        Total Savings Job created\n",
       "                 mean         sum\n",
       "NTA                              \n",
       "BK0101   10367.961795        16.0\n",
       "BK0104   21158.253077       187.0\n",
       "BK0202   74011.255897         0.0\n",
       "BK0261   12876.958500         0.0\n",
       "BK0301   57934.141667         8.0\n",
       "BK0502   13810.223333         0.0\n",
       "BK0503   62669.078889       415.0\n",
       "BK0601   25358.179524        97.0\n",
       "BK0702   17596.188571        92.0\n",
       "BK0802    3620.966591         0.0\n",
       "BK1602   -3744.104444        55.0\n",
       "BX0101   17226.212931       106.0\n",
       "BX0201   21078.529496       133.0\n",
       "BX1001   10510.395882        20.0\n",
       "MN0101  431063.858667         0.0\n",
       "MN0102   47655.748000         4.0\n",
       "MN0902    2398.261224        10.0\n",
       "MN1102    8909.400625         8.0\n",
       "QN0101   14292.983784       100.0\n",
       "QN0103   14084.895625         2.0\n",
       "QN0104   25843.476364        23.0\n",
       "QN0105   59201.958046       105.0\n",
       "QN0161    2489.384000         0.0\n",
       "QN0201   27410.526875        78.0\n",
       "QN0202   13586.924023       125.0\n",
       "QN0203    6549.470909        10.0\n",
       "QN0501   13278.137101       195.0\n",
       "QN0502   11908.803529         3.0\n",
       "QN0701   33604.169773       120.0\n",
       "QN0904    1739.515833         0.0\n",
       "QN1306   21160.505200         0.0"
      ]
     },
     "execution_count": 172,
     "metadata": {},
     "output_type": "execute_result"
    }
   ],
   "source": [
    "summary_5_company=summary_all_NTA[NTAs_with_5_companies]\n",
    "summary_5_company"
   ]
  },
  {
   "cell_type": "code",
   "execution_count": 173,
   "id": "a4200552",
   "metadata": {},
   "outputs": [
    {
     "data": {
      "text/plain": [
       "31"
      ]
     },
     "execution_count": 173,
     "metadata": {},
     "output_type": "execute_result"
    }
   ],
   "source": [
    "len(summary_5_company)"
   ]
  },
  {
   "cell_type": "code",
   "execution_count": 175,
   "id": "3e035c0f",
   "metadata": {},
   "outputs": [
    {
     "data": {
      "text/plain": [
       "MultiIndex([('Total Savings', 'mean'),\n",
       "            (  'Job created',  'sum')],\n",
       "           )"
      ]
     },
     "execution_count": 175,
     "metadata": {},
     "output_type": "execute_result"
    }
   ],
   "source": [
    "summary_5_company.columns"
   ]
  },
  {
   "cell_type": "code",
   "execution_count": 187,
   "id": "1f0df123",
   "metadata": {},
   "outputs": [
    {
     "data": {
      "text/html": [
       "<div>\n",
       "<style scoped>\n",
       "    .dataframe tbody tr th:only-of-type {\n",
       "        vertical-align: middle;\n",
       "    }\n",
       "\n",
       "    .dataframe tbody tr th {\n",
       "        vertical-align: top;\n",
       "    }\n",
       "\n",
       "    .dataframe thead tr th {\n",
       "        text-align: left;\n",
       "    }\n",
       "</style>\n",
       "<table border=\"1\" class=\"dataframe\">\n",
       "  <thead>\n",
       "    <tr>\n",
       "      <th></th>\n",
       "      <th>NTA</th>\n",
       "      <th>Total Savings</th>\n",
       "      <th>Job created</th>\n",
       "    </tr>\n",
       "    <tr>\n",
       "      <th></th>\n",
       "      <th></th>\n",
       "      <th>mean</th>\n",
       "      <th>sum</th>\n",
       "    </tr>\n",
       "  </thead>\n",
       "  <tbody>\n",
       "    <tr>\n",
       "      <th>0</th>\n",
       "      <td>BK0101</td>\n",
       "      <td>10367.961795</td>\n",
       "      <td>16.0</td>\n",
       "    </tr>\n",
       "    <tr>\n",
       "      <th>1</th>\n",
       "      <td>BK0104</td>\n",
       "      <td>21158.253077</td>\n",
       "      <td>187.0</td>\n",
       "    </tr>\n",
       "    <tr>\n",
       "      <th>2</th>\n",
       "      <td>BK0202</td>\n",
       "      <td>74011.255897</td>\n",
       "      <td>0.0</td>\n",
       "    </tr>\n",
       "    <tr>\n",
       "      <th>3</th>\n",
       "      <td>BK0261</td>\n",
       "      <td>12876.958500</td>\n",
       "      <td>0.0</td>\n",
       "    </tr>\n",
       "    <tr>\n",
       "      <th>4</th>\n",
       "      <td>BK0301</td>\n",
       "      <td>57934.141667</td>\n",
       "      <td>8.0</td>\n",
       "    </tr>\n",
       "    <tr>\n",
       "      <th>5</th>\n",
       "      <td>BK0502</td>\n",
       "      <td>13810.223333</td>\n",
       "      <td>0.0</td>\n",
       "    </tr>\n",
       "    <tr>\n",
       "      <th>6</th>\n",
       "      <td>BK0503</td>\n",
       "      <td>62669.078889</td>\n",
       "      <td>415.0</td>\n",
       "    </tr>\n",
       "    <tr>\n",
       "      <th>7</th>\n",
       "      <td>BK0601</td>\n",
       "      <td>25358.179524</td>\n",
       "      <td>97.0</td>\n",
       "    </tr>\n",
       "    <tr>\n",
       "      <th>8</th>\n",
       "      <td>BK0702</td>\n",
       "      <td>17596.188571</td>\n",
       "      <td>92.0</td>\n",
       "    </tr>\n",
       "    <tr>\n",
       "      <th>9</th>\n",
       "      <td>BK0802</td>\n",
       "      <td>3620.966591</td>\n",
       "      <td>0.0</td>\n",
       "    </tr>\n",
       "    <tr>\n",
       "      <th>10</th>\n",
       "      <td>BK1602</td>\n",
       "      <td>-3744.104444</td>\n",
       "      <td>55.0</td>\n",
       "    </tr>\n",
       "    <tr>\n",
       "      <th>11</th>\n",
       "      <td>BX0101</td>\n",
       "      <td>17226.212931</td>\n",
       "      <td>106.0</td>\n",
       "    </tr>\n",
       "    <tr>\n",
       "      <th>12</th>\n",
       "      <td>BX0201</td>\n",
       "      <td>21078.529496</td>\n",
       "      <td>133.0</td>\n",
       "    </tr>\n",
       "    <tr>\n",
       "      <th>13</th>\n",
       "      <td>BX1001</td>\n",
       "      <td>10510.395882</td>\n",
       "      <td>20.0</td>\n",
       "    </tr>\n",
       "    <tr>\n",
       "      <th>14</th>\n",
       "      <td>MN0101</td>\n",
       "      <td>431063.858667</td>\n",
       "      <td>0.0</td>\n",
       "    </tr>\n",
       "    <tr>\n",
       "      <th>15</th>\n",
       "      <td>MN0102</td>\n",
       "      <td>47655.748000</td>\n",
       "      <td>4.0</td>\n",
       "    </tr>\n",
       "    <tr>\n",
       "      <th>16</th>\n",
       "      <td>MN0902</td>\n",
       "      <td>2398.261224</td>\n",
       "      <td>10.0</td>\n",
       "    </tr>\n",
       "    <tr>\n",
       "      <th>17</th>\n",
       "      <td>MN1102</td>\n",
       "      <td>8909.400625</td>\n",
       "      <td>8.0</td>\n",
       "    </tr>\n",
       "    <tr>\n",
       "      <th>18</th>\n",
       "      <td>QN0101</td>\n",
       "      <td>14292.983784</td>\n",
       "      <td>100.0</td>\n",
       "    </tr>\n",
       "    <tr>\n",
       "      <th>19</th>\n",
       "      <td>QN0103</td>\n",
       "      <td>14084.895625</td>\n",
       "      <td>2.0</td>\n",
       "    </tr>\n",
       "    <tr>\n",
       "      <th>20</th>\n",
       "      <td>QN0104</td>\n",
       "      <td>25843.476364</td>\n",
       "      <td>23.0</td>\n",
       "    </tr>\n",
       "    <tr>\n",
       "      <th>21</th>\n",
       "      <td>QN0105</td>\n",
       "      <td>59201.958046</td>\n",
       "      <td>105.0</td>\n",
       "    </tr>\n",
       "    <tr>\n",
       "      <th>22</th>\n",
       "      <td>QN0161</td>\n",
       "      <td>2489.384000</td>\n",
       "      <td>0.0</td>\n",
       "    </tr>\n",
       "    <tr>\n",
       "      <th>23</th>\n",
       "      <td>QN0201</td>\n",
       "      <td>27410.526875</td>\n",
       "      <td>78.0</td>\n",
       "    </tr>\n",
       "    <tr>\n",
       "      <th>24</th>\n",
       "      <td>QN0202</td>\n",
       "      <td>13586.924023</td>\n",
       "      <td>125.0</td>\n",
       "    </tr>\n",
       "    <tr>\n",
       "      <th>25</th>\n",
       "      <td>QN0203</td>\n",
       "      <td>6549.470909</td>\n",
       "      <td>10.0</td>\n",
       "    </tr>\n",
       "    <tr>\n",
       "      <th>26</th>\n",
       "      <td>QN0501</td>\n",
       "      <td>13278.137101</td>\n",
       "      <td>195.0</td>\n",
       "    </tr>\n",
       "    <tr>\n",
       "      <th>27</th>\n",
       "      <td>QN0502</td>\n",
       "      <td>11908.803529</td>\n",
       "      <td>3.0</td>\n",
       "    </tr>\n",
       "    <tr>\n",
       "      <th>28</th>\n",
       "      <td>QN0701</td>\n",
       "      <td>33604.169773</td>\n",
       "      <td>120.0</td>\n",
       "    </tr>\n",
       "    <tr>\n",
       "      <th>29</th>\n",
       "      <td>QN0904</td>\n",
       "      <td>1739.515833</td>\n",
       "      <td>0.0</td>\n",
       "    </tr>\n",
       "    <tr>\n",
       "      <th>30</th>\n",
       "      <td>QN1306</td>\n",
       "      <td>21160.505200</td>\n",
       "      <td>0.0</td>\n",
       "    </tr>\n",
       "  </tbody>\n",
       "</table>\n",
       "</div>"
      ],
      "text/plain": [
       "       NTA  Total Savings Job created\n",
       "                     mean         sum\n",
       "0   BK0101   10367.961795        16.0\n",
       "1   BK0104   21158.253077       187.0\n",
       "2   BK0202   74011.255897         0.0\n",
       "3   BK0261   12876.958500         0.0\n",
       "4   BK0301   57934.141667         8.0\n",
       "5   BK0502   13810.223333         0.0\n",
       "6   BK0503   62669.078889       415.0\n",
       "7   BK0601   25358.179524        97.0\n",
       "8   BK0702   17596.188571        92.0\n",
       "9   BK0802    3620.966591         0.0\n",
       "10  BK1602   -3744.104444        55.0\n",
       "11  BX0101   17226.212931       106.0\n",
       "12  BX0201   21078.529496       133.0\n",
       "13  BX1001   10510.395882        20.0\n",
       "14  MN0101  431063.858667         0.0\n",
       "15  MN0102   47655.748000         4.0\n",
       "16  MN0902    2398.261224        10.0\n",
       "17  MN1102    8909.400625         8.0\n",
       "18  QN0101   14292.983784       100.0\n",
       "19  QN0103   14084.895625         2.0\n",
       "20  QN0104   25843.476364        23.0\n",
       "21  QN0105   59201.958046       105.0\n",
       "22  QN0161    2489.384000         0.0\n",
       "23  QN0201   27410.526875        78.0\n",
       "24  QN0202   13586.924023       125.0\n",
       "25  QN0203    6549.470909        10.0\n",
       "26  QN0501   13278.137101       195.0\n",
       "27  QN0502   11908.803529         3.0\n",
       "28  QN0701   33604.169773       120.0\n",
       "29  QN0904    1739.515833         0.0\n",
       "30  QN1306   21160.505200         0.0"
      ]
     },
     "execution_count": 187,
     "metadata": {},
     "output_type": "execute_result"
    }
   ],
   "source": [
    "summary_5_company_pd=summary_5_company.reset_index(level = ('NTA',))\n",
    "summary_5_company_pd"
   ]
  },
  {
   "cell_type": "code",
   "execution_count": 188,
   "id": "16691e85",
   "metadata": {},
   "outputs": [
    {
     "data": {
      "text/plain": [
       "MultiIndex([(          'NTA',     ''),\n",
       "            ('Total Savings', 'mean'),\n",
       "            (  'Job created',  'sum')],\n",
       "           )"
      ]
     },
     "execution_count": 188,
     "metadata": {},
     "output_type": "execute_result"
    }
   ],
   "source": [
    "summary_5_company_pd.columns"
   ]
  },
  {
   "cell_type": "code",
   "execution_count": 189,
   "id": "a0a3e409",
   "metadata": {},
   "outputs": [
    {
     "data": {
      "text/plain": [
       "pandas.core.frame.DataFrame"
      ]
     },
     "execution_count": 189,
     "metadata": {},
     "output_type": "execute_result"
    }
   ],
   "source": [
    "type(summary_5_company_pd)"
   ]
  },
  {
   "cell_type": "code",
   "execution_count": 193,
   "id": "d87a2c41",
   "metadata": {
    "scrolled": true
   },
   "outputs": [
    {
     "data": {
      "text/plain": [
       "0      10367.961795\n",
       "1      21158.253077\n",
       "2      74011.255897\n",
       "3      12876.958500\n",
       "4      57934.141667\n",
       "5      13810.223333\n",
       "6      62669.078889\n",
       "7      25358.179524\n",
       "8      17596.188571\n",
       "9       3620.966591\n",
       "10     -3744.104444\n",
       "11     17226.212931\n",
       "12     21078.529496\n",
       "13     10510.395882\n",
       "14    431063.858667\n",
       "15     47655.748000\n",
       "16      2398.261224\n",
       "17      8909.400625\n",
       "18     14292.983784\n",
       "19     14084.895625\n",
       "20     25843.476364\n",
       "21     59201.958046\n",
       "22      2489.384000\n",
       "23     27410.526875\n",
       "24     13586.924023\n",
       "25      6549.470909\n",
       "26     13278.137101\n",
       "27     11908.803529\n",
       "28     33604.169773\n",
       "29      1739.515833\n",
       "30     21160.505200\n",
       "Name: mean, dtype: float64"
      ]
     },
     "execution_count": 193,
     "metadata": {},
     "output_type": "execute_result"
    }
   ],
   "source": [
    "summary_5_company_pd['Total Savings']['mean']"
   ]
  },
  {
   "cell_type": "code",
   "execution_count": 199,
   "id": "cf96d09c",
   "metadata": {},
   "outputs": [],
   "source": [
    "for_csv = pd.DataFrame({'NTA': summary_5_company_pd['NTA'], \n",
    "                        'TotalSavingsMean': summary_5_company_pd['Total Savings']['mean'],  \n",
    "                        'TotalJobsCreated': summary_5_company_pd['Job created']['sum']\n",
    "})"
   ]
  },
  {
   "cell_type": "code",
   "execution_count": 196,
   "id": "a8a62b4e",
   "metadata": {},
   "outputs": [
    {
     "data": {
      "text/plain": [
       "0     BK0101\n",
       "1     BK0104\n",
       "2     BK0202\n",
       "3     BK0261\n",
       "4     BK0301\n",
       "5     BK0502\n",
       "6     BK0503\n",
       "7     BK0601\n",
       "8     BK0702\n",
       "9     BK0802\n",
       "10    BK1602\n",
       "11    BX0101\n",
       "12    BX0201\n",
       "13    BX1001\n",
       "14    MN0101\n",
       "15    MN0102\n",
       "16    MN0902\n",
       "17    MN1102\n",
       "18    QN0101\n",
       "19    QN0103\n",
       "20    QN0104\n",
       "21    QN0105\n",
       "22    QN0161\n",
       "23    QN0201\n",
       "24    QN0202\n",
       "25    QN0203\n",
       "26    QN0501\n",
       "27    QN0502\n",
       "28    QN0701\n",
       "29    QN0904\n",
       "30    QN1306\n",
       "Name: NTA, dtype: object"
      ]
     },
     "execution_count": 196,
     "metadata": {},
     "output_type": "execute_result"
    }
   ],
   "source": [
    "summary_5_company_pd['NTA']\n"
   ]
  },
  {
   "cell_type": "code",
   "execution_count": 198,
   "id": "b4929453",
   "metadata": {},
   "outputs": [
    {
     "data": {
      "text/plain": [
       "0      16.0\n",
       "1     187.0\n",
       "2       0.0\n",
       "3       0.0\n",
       "4       8.0\n",
       "5       0.0\n",
       "6     415.0\n",
       "7      97.0\n",
       "8      92.0\n",
       "9       0.0\n",
       "10     55.0\n",
       "11    106.0\n",
       "12    133.0\n",
       "13     20.0\n",
       "14      0.0\n",
       "15      4.0\n",
       "16     10.0\n",
       "17      8.0\n",
       "18    100.0\n",
       "19      2.0\n",
       "20     23.0\n",
       "21    105.0\n",
       "22      0.0\n",
       "23     78.0\n",
       "24    125.0\n",
       "25     10.0\n",
       "26    195.0\n",
       "27      3.0\n",
       "28    120.0\n",
       "29      0.0\n",
       "30      0.0\n",
       "Name: sum, dtype: float64"
      ]
     },
     "execution_count": 198,
     "metadata": {},
     "output_type": "execute_result"
    }
   ],
   "source": [
    "summary_5_company_pd['Job created']['sum']"
   ]
  },
  {
   "cell_type": "code",
   "execution_count": 200,
   "id": "f469536f",
   "metadata": {},
   "outputs": [
    {
     "data": {
      "text/html": [
       "<div>\n",
       "<style scoped>\n",
       "    .dataframe tbody tr th:only-of-type {\n",
       "        vertical-align: middle;\n",
       "    }\n",
       "\n",
       "    .dataframe tbody tr th {\n",
       "        vertical-align: top;\n",
       "    }\n",
       "\n",
       "    .dataframe thead th {\n",
       "        text-align: right;\n",
       "    }\n",
       "</style>\n",
       "<table border=\"1\" class=\"dataframe\">\n",
       "  <thead>\n",
       "    <tr style=\"text-align: right;\">\n",
       "      <th></th>\n",
       "      <th>NTA</th>\n",
       "      <th>TotalSavingsMean</th>\n",
       "      <th>TotalJobsCreated</th>\n",
       "    </tr>\n",
       "  </thead>\n",
       "  <tbody>\n",
       "    <tr>\n",
       "      <th>0</th>\n",
       "      <td>BK0101</td>\n",
       "      <td>10367.961795</td>\n",
       "      <td>16.0</td>\n",
       "    </tr>\n",
       "    <tr>\n",
       "      <th>1</th>\n",
       "      <td>BK0104</td>\n",
       "      <td>21158.253077</td>\n",
       "      <td>187.0</td>\n",
       "    </tr>\n",
       "    <tr>\n",
       "      <th>2</th>\n",
       "      <td>BK0202</td>\n",
       "      <td>74011.255897</td>\n",
       "      <td>0.0</td>\n",
       "    </tr>\n",
       "    <tr>\n",
       "      <th>3</th>\n",
       "      <td>BK0261</td>\n",
       "      <td>12876.958500</td>\n",
       "      <td>0.0</td>\n",
       "    </tr>\n",
       "    <tr>\n",
       "      <th>4</th>\n",
       "      <td>BK0301</td>\n",
       "      <td>57934.141667</td>\n",
       "      <td>8.0</td>\n",
       "    </tr>\n",
       "  </tbody>\n",
       "</table>\n",
       "</div>"
      ],
      "text/plain": [
       "      NTA  TotalSavingsMean  TotalJobsCreated\n",
       "0  BK0101      10367.961795              16.0\n",
       "1  BK0104      21158.253077             187.0\n",
       "2  BK0202      74011.255897               0.0\n",
       "3  BK0261      12876.958500               0.0\n",
       "4  BK0301      57934.141667               8.0"
      ]
     },
     "execution_count": 200,
     "metadata": {},
     "output_type": "execute_result"
    }
   ],
   "source": [
    "for_csv.head()"
   ]
  },
  {
   "cell_type": "code",
   "execution_count": 201,
   "id": "86f89825",
   "metadata": {},
   "outputs": [],
   "source": [
    "for_csv.to_csv('NTA_Stats.csv')"
   ]
  },
  {
   "cell_type": "markdown",
   "id": "b9a8a7c3",
   "metadata": {},
   "source": [
    "### Day 5 "
   ]
  },
  {
   "cell_type": "code",
   "execution_count": 1,
   "id": "a76d685f",
   "metadata": {},
   "outputs": [],
   "source": [
    "import pandas as pd\n",
    "import numpy as np"
   ]
  },
  {
   "cell_type": "code",
   "execution_count": 2,
   "id": "331eb4a8",
   "metadata": {},
   "outputs": [],
   "source": [
    "data = pd.read_csv(\"NTA_Stats.csv\")"
   ]
  },
  {
   "cell_type": "code",
   "execution_count": 3,
   "id": "6192f2e9",
   "metadata": {},
   "outputs": [
    {
     "data": {
      "text/html": [
       "<div>\n",
       "<style scoped>\n",
       "    .dataframe tbody tr th:only-of-type {\n",
       "        vertical-align: middle;\n",
       "    }\n",
       "\n",
       "    .dataframe tbody tr th {\n",
       "        vertical-align: top;\n",
       "    }\n",
       "\n",
       "    .dataframe thead th {\n",
       "        text-align: right;\n",
       "    }\n",
       "</style>\n",
       "<table border=\"1\" class=\"dataframe\">\n",
       "  <thead>\n",
       "    <tr style=\"text-align: right;\">\n",
       "      <th></th>\n",
       "      <th>Unnamed: 0</th>\n",
       "      <th>NTA</th>\n",
       "      <th>TotalSavingsMean</th>\n",
       "      <th>TotalJobsCreated</th>\n",
       "    </tr>\n",
       "  </thead>\n",
       "  <tbody>\n",
       "    <tr>\n",
       "      <th>0</th>\n",
       "      <td>0</td>\n",
       "      <td>BK0101</td>\n",
       "      <td>10367.961795</td>\n",
       "      <td>16.0</td>\n",
       "    </tr>\n",
       "    <tr>\n",
       "      <th>1</th>\n",
       "      <td>1</td>\n",
       "      <td>BK0104</td>\n",
       "      <td>21158.253077</td>\n",
       "      <td>187.0</td>\n",
       "    </tr>\n",
       "    <tr>\n",
       "      <th>2</th>\n",
       "      <td>2</td>\n",
       "      <td>BK0202</td>\n",
       "      <td>74011.255897</td>\n",
       "      <td>0.0</td>\n",
       "    </tr>\n",
       "    <tr>\n",
       "      <th>3</th>\n",
       "      <td>3</td>\n",
       "      <td>BK0261</td>\n",
       "      <td>12876.958500</td>\n",
       "      <td>0.0</td>\n",
       "    </tr>\n",
       "    <tr>\n",
       "      <th>4</th>\n",
       "      <td>4</td>\n",
       "      <td>BK0301</td>\n",
       "      <td>57934.141667</td>\n",
       "      <td>8.0</td>\n",
       "    </tr>\n",
       "  </tbody>\n",
       "</table>\n",
       "</div>"
      ],
      "text/plain": [
       "   Unnamed: 0     NTA  TotalSavingsMean  TotalJobsCreated\n",
       "0           0  BK0101      10367.961795              16.0\n",
       "1           1  BK0104      21158.253077             187.0\n",
       "2           2  BK0202      74011.255897               0.0\n",
       "3           3  BK0261      12876.958500               0.0\n",
       "4           4  BK0301      57934.141667               8.0"
      ]
     },
     "execution_count": 3,
     "metadata": {},
     "output_type": "execute_result"
    }
   ],
   "source": [
    "data.head()"
   ]
  },
  {
   "cell_type": "code",
   "execution_count": 4,
   "id": "a9f17487",
   "metadata": {},
   "outputs": [],
   "source": [
    "x = data['TotalJobsCreated']\n",
    "y = data['TotalSavingsMean']\n"
   ]
  },
  {
   "cell_type": "code",
   "execution_count": 5,
   "id": "54d4d10b",
   "metadata": {},
   "outputs": [
    {
     "data": {
      "text/plain": [
       "0      10367.961795\n",
       "1      21158.253077\n",
       "2      74011.255897\n",
       "3      12876.958500\n",
       "4      57934.141667\n",
       "5      13810.223333\n",
       "6      62669.078889\n",
       "7      25358.179524\n",
       "8      17596.188571\n",
       "9       3620.966591\n",
       "10     -3744.104444\n",
       "11     17226.212931\n",
       "12     21078.529496\n",
       "13     10510.395882\n",
       "14    431063.858667\n",
       "15     47655.748000\n",
       "16      2398.261224\n",
       "17      8909.400625\n",
       "18     14292.983784\n",
       "19     14084.895625\n",
       "20     25843.476364\n",
       "21     59201.958046\n",
       "22      2489.384000\n",
       "23     27410.526875\n",
       "24     13586.924023\n",
       "25      6549.470909\n",
       "26     13278.137101\n",
       "27     11908.803529\n",
       "28     33604.169773\n",
       "29      1739.515833\n",
       "30     21160.505200\n",
       "Name: TotalSavingsMean, dtype: float64"
      ]
     },
     "execution_count": 5,
     "metadata": {},
     "output_type": "execute_result"
    }
   ],
   "source": [
    "y"
   ]
  },
  {
   "cell_type": "code",
   "execution_count": 6,
   "id": "6dfaa40a",
   "metadata": {},
   "outputs": [],
   "source": [
    "import matplotlib.pyplot as plt"
   ]
  },
  {
   "cell_type": "code",
   "execution_count": 7,
   "id": "1148abb0",
   "metadata": {},
   "outputs": [
    {
     "data": {
      "text/plain": [
       "Text(0, 0.5, 'Total Savings Mean')"
      ]
     },
     "execution_count": 7,
     "metadata": {},
     "output_type": "execute_result"
    },
    {
     "data": {
      "image/png": "[encoded data removed]",
      "text/plain": [
       "<Figure size 640x480 with 1 Axes>"
      ]
     },
     "metadata": {},
     "output_type": "display_data"
    }
   ],
   "source": [
    "fig, ax = plt.subplots()\n",
    "ax.scatter(x,y)\n",
    "ax.set_xlabel('Total Jobs Created')\n",
    "ax.set_ylabel('Total Savings Mean')"
   ]
  },
  {
   "cell_type": "code",
   "execution_count": 8,
   "id": "67c3960e",
   "metadata": {},
   "outputs": [
    {
     "data": {
      "text/plain": [
       "Text(0, 0.5, 'Log Total Savings Mean')"
      ]
     },
     "execution_count": 8,
     "metadata": {},
     "output_type": "execute_result"
    },
    {
     "data": {
      "image/png": "[encoded data removed]",
      "text/plain": [
       "<Figure size 640x480 with 1 Axes>"
      ]
     },
     "metadata": {},
     "output_type": "display_data"
    }
   ],
   "source": [
    "fig, ax = plt.subplots()\n",
    "plt.yscale('log')\n",
    "ax.scatter(x,y)\n",
    "ax.set_xlabel('Total Jobs Created')\n",
    "ax.set_ylabel('Log Total Savings Mean')"
   ]
  },
  {
   "cell_type": "code",
   "execution_count": 11,
   "id": "bdb5ef3c",
   "metadata": {},
   "outputs": [
    {
     "name": "stderr",
     "output_type": "stream",
     "text": [
      "D:\\Programs\\Lib\\site-packages\\pandas\\core\\arraylike.py:402: RuntimeWarning: invalid value encountered in log\n",
      "  result = getattr(ufunc, method)(*inputs, **kwargs)\n"
     ]
    },
    {
     "data": {
      "text/plain": [
       "Text(0.5, 0, 'log of TotalSavingsMean')"
      ]
     },
     "execution_count": 11,
     "metadata": {},
     "output_type": "execute_result"
    },
    {
     "data": {
      "image/png": "[encoded data removed]",
      "text/plain": [
       "<Figure size 640x480 with 1 Axes>"
      ]
     },
     "metadata": {},
     "output_type": "display_data"
    }
   ],
   "source": [
    "logy = np.log(y)\n",
    "fig, ax = plt.subplots()\n",
    "ax.hist(logy)\n",
    "ax.set_xlabel(\"log of TotalSavingsMean\")"
   ]
  },
  {
   "cell_type": "code",
   "execution_count": 10,
   "id": "fed734dd",
   "metadata": {},
   "outputs": [
    {
     "data": {
      "text/plain": [
       "[<matplotlib.lines.Line2D at 0x1f2d1078690>]"
      ]
     },
     "execution_count": 10,
     "metadata": {},
     "output_type": "execute_result"
    },
    {
     "data": {
      "image/png": "[encoded data removed]",
      "text/plain": [
       "<Figure size 640x480 with 1 Axes>"
      ]
     },
     "metadata": {},
     "output_type": "display_data"
    }
   ],
   "source": [
    "plt.plot(range(31), x)"
   ]
  },
  {
   "cell_type": "code",
   "execution_count": null,
   "id": "4f8ee8ba",
   "metadata": {},
   "outputs": [],
   "source": []
  }
 ],
 "metadata": {
  "kernelspec": {
   "display_name": "Python 3 (ipykernel)",
   "language": "python",
   "name": "python3"
  },
  "language_info": {
   "codemirror_mode": {
    "name": "ipython",
    "version": 3
   },
   "file_extension": ".py",
   "mimetype": "text/x-python",
   "name": "python",
   "nbconvert_exporter": "python",
   "pygments_lexer": "ipython3",
   "version": "3.11.4"
  }
 },
 "nbformat": 4,
 "nbformat_minor": 5
}
